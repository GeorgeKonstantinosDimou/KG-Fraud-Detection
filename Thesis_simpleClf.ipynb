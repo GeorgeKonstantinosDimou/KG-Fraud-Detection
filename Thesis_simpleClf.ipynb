{
  "cells": [
    {
      "cell_type": "markdown",
      "metadata": {
        "id": "view-in-github",
        "colab_type": "text"
      },
      "source": [
        "<a href=\"https://colab.research.google.com/github/GeorgeKonstantinosDimou/Skroutz/blob/main/Thesis_simpleClf.ipynb\" target=\"_parent\"><img src=\"https://colab.research.google.com/assets/colab-badge.svg\" alt=\"Open In Colab\"/></a>"
      ]
    },
    {
      "cell_type": "code",
      "execution_count": null,
      "metadata": {
        "id": "onfQf8q_xb8A"
      },
      "outputs": [],
      "source": [
        "import pandas as pd\n",
        "import numpy as np\n",
        "import sklearn\n",
        "from IPython.display import Markdown\n",
        "import seaborn as sns\n",
        "import matplotlib.pyplot as plt\n",
        "from sklearn.neighbors import KNeighborsClassifier\n",
        "from sklearn.linear_model import LogisticRegression\n",
        "from sklearn.svm import SVC\n",
        "from sklearn.naive_bayes import GaussianNB\n",
        "from sklearn.tree import DecisionTreeClassifier\n",
        "from sklearn.ensemble import RandomForestClassifier\n",
        "from xgboost import XGBClassifier\n",
        "from sklearn.preprocessing import LabelEncoder\n",
        "from sklearn.feature_selection import VarianceThreshold, SelectKBest, f_classif, SequentialFeatureSelector\n",
        "from sklearn.preprocessing import MinMaxScaler, StandardScaler\n",
        "from imblearn.over_sampling import SMOTE\n",
        "from imblearn.under_sampling import RandomUnderSampler\n",
        "from imblearn.pipeline import make_pipeline, Pipeline\n",
        "from sklearn.metrics import accuracy_score, confusion_matrix, precision_score, recall_score, f1_score\n",
        "from tqdm import tqdm\n",
        "import time"
      ]
    },
    {
      "cell_type": "code",
      "execution_count": null,
      "metadata": {
        "colab": {
          "base_uri": "https://localhost:8080/"
        },
        "id": "f-MGzdIYxkuD",
        "outputId": "3a902435-0c28-44be-8280-63b007937bc0"
      },
      "outputs": [
        {
          "output_type": "stream",
          "name": "stdout",
          "text": [
            "<class 'pandas.core.frame.DataFrame'>\n",
            "RangeIndex: 1048575 entries, 0 to 1048574\n",
            "Data columns (total 11 columns):\n",
            " #   Column          Non-Null Count    Dtype  \n",
            "---  ------          --------------    -----  \n",
            " 0   step            1048575 non-null  int64  \n",
            " 1   type            1048575 non-null  object \n",
            " 2   amount          1048575 non-null  float64\n",
            " 3   nameOrig        1048575 non-null  object \n",
            " 4   oldbalanceOrg   1048575 non-null  float64\n",
            " 5   newbalanceOrig  1048575 non-null  float64\n",
            " 6   nameDest        1048575 non-null  object \n",
            " 7   oldbalanceDest  1048575 non-null  float64\n",
            " 8   newbalanceDest  1048575 non-null  float64\n",
            " 9   isFraud         1048575 non-null  int64  \n",
            " 10  isFlaggedFraud  1048575 non-null  int64  \n",
            "dtypes: float64(5), int64(3), object(3)\n",
            "memory usage: 88.0+ MB\n"
          ]
        }
      ],
      "source": [
        "ds = pd.read_csv(\"/content/drive/MyDrive/Πτυχιακή/original.csv\")\n",
        "ds.info()"
      ]
    },
    {
      "cell_type": "code",
      "execution_count": null,
      "metadata": {
        "id": "5r7Cp5UJ0Jz6"
      },
      "outputs": [],
      "source": [
        "ds.drop(columns=\"isFlaggedFraud\", inplace = True)\n",
        "ds = ds[~(ds['type'].isin(['CASH_IN', 'DEBIT', 'PAYMENT']))]\n",
        "\n",
        "encoder = {}\n",
        "for i in ds.select_dtypes('object').columns:\n",
        "    encoder[i] = LabelEncoder()\n",
        "    ds[i] = encoder[i].fit_transform(ds[i])\n",
        "\n",
        "X = ds.drop('isFraud', axis=1)\n",
        "y = ds['isFraud']"
      ]
    },
    {
      "cell_type": "code",
      "execution_count": null,
      "metadata": {
        "colab": {
          "base_uri": "https://localhost:8080/",
          "height": 118
        },
        "id": "9dRm3ku80OZW",
        "outputId": "0328e5c9-5b24-4839-8b4b-18b19982dc55"
      },
      "outputs": [
        {
          "output_type": "display_data",
          "data": {
            "text/plain": [
              "<IPython.core.display.Markdown object>"
            ],
            "text/markdown": "### Καλύτερα αποτελέσματα μέσω cross validation για k-Nearest neighbors:\n**Best number of neighbors**: 4<br>**Best number of neighbors**: uniform<br>**Best score:** 0.228"
          },
          "metadata": {}
        }
      ],
      "source": [
        "time_needed = time.time()\n",
        "\n",
        "knn_pipeline = Pipeline(\n",
        "    [('feature_selection', SelectKBest(f_classif, k=5)),\n",
        "    ('scaler', StandardScaler()),\n",
        "    ('resampler1', SMOTE(sampling_strategy='minority', random_state=42)),\n",
        "    ('resampler2', RandomUnderSampler(sampling_strategy='all', random_state=42)),\n",
        "    ('clf', KNeighborsClassifier())])\n",
        "\n",
        "params_grid_knn = { \n",
        "          'clf__n_neighbors':   [4],\n",
        "          'clf__weights':   ['uniform']\n",
        "  }\n",
        "\n",
        "skf = sklearn.model_selection.StratifiedKFold(n_splits=5, shuffle=True, random_state=42)\n",
        "grid_search = sklearn.model_selection.GridSearchCV(knn_pipeline, params_grid_knn, scoring=['precision', 'recall'], refit='precision', cv=skf)\n",
        "\n",
        "grid_search.fit(X, y)\n",
        "\n",
        "display(Markdown(\n",
        "    \"### Καλύτερα αποτελέσματα μέσω cross validation για k-Nearest neighbors:\\n\" +\n",
        "    \"**Best number of neighbors**: {}\".format(grid_search.best_params_['clf__n_neighbors']) + \"<br>\" +\n",
        "    \"**Best weight**: {}\".format(grid_search.best_params_['clf__weights']) + \"<br>\" +\n",
        "    \"**Best score:** {:.3f}\".format(grid_search.best_score_)\n",
        "))\n",
        "#print(\"Best parameters: \", grid_search.best_params_)\n",
        "#print(\"Best score: \", grid_search.best_score_)"
      ]
    },
    {
      "cell_type": "code",
      "execution_count": null,
      "metadata": {
        "colab": {
          "base_uri": "https://localhost:8080/",
          "height": 814
        },
        "id": "UTbvzCORcXoF",
        "outputId": "5da89aeb-6d15-4246-9ed4-a64305a85b84"
      },
      "outputs": [
        {
          "output_type": "display_data",
          "data": {
            "text/plain": [
              "<IPython.core.display.Markdown object>"
            ],
            "text/markdown": "### Αποτελέσματα k-Nearest neighbors:\n"
          },
          "metadata": {}
        },
        {
          "output_type": "display_data",
          "data": {
            "text/plain": [
              "<IPython.core.display.Markdown object>"
            ],
            "text/markdown": "####Fold 1####"
          },
          "metadata": {}
        },
        {
          "output_type": "display_data",
          "data": {
            "text/plain": [
              "<IPython.core.display.Markdown object>"
            ],
            "text/markdown": "**Precision**: 0.77<br>**Recall**: 0.44<br>**F1**: 0.56<br>**Confusion matrix**:"
          },
          "metadata": {}
        },
        {
          "output_type": "stream",
          "name": "stdout",
          "text": [
            "91820    30\n",
            "  128   101\n"
          ]
        },
        {
          "output_type": "display_data",
          "data": {
            "text/plain": [
              "<IPython.core.display.Markdown object>"
            ],
            "text/markdown": "####Fold 2####"
          },
          "metadata": {}
        },
        {
          "output_type": "display_data",
          "data": {
            "text/plain": [
              "<IPython.core.display.Markdown object>"
            ],
            "text/markdown": "**Precision**: 0.88<br>**Recall**: 0.43<br>**F1**: 0.58<br>**Confusion matrix**:"
          },
          "metadata": {}
        },
        {
          "output_type": "stream",
          "name": "stdout",
          "text": [
            "91837    13\n",
            "  131    98\n"
          ]
        },
        {
          "output_type": "display_data",
          "data": {
            "text/plain": [
              "<IPython.core.display.Markdown object>"
            ],
            "text/markdown": "####Fold 3####"
          },
          "metadata": {}
        },
        {
          "output_type": "display_data",
          "data": {
            "text/plain": [
              "<IPython.core.display.Markdown object>"
            ],
            "text/markdown": "**Precision**: 0.77<br>**Recall**: 0.39<br>**F1**: 0.52<br>**Confusion matrix**:"
          },
          "metadata": {}
        },
        {
          "output_type": "stream",
          "name": "stdout",
          "text": [
            "91824    27\n",
            "  138    90\n"
          ]
        },
        {
          "output_type": "display_data",
          "data": {
            "text/plain": [
              "<IPython.core.display.Markdown object>"
            ],
            "text/markdown": "####Fold 4####"
          },
          "metadata": {}
        },
        {
          "output_type": "display_data",
          "data": {
            "text/plain": [
              "<IPython.core.display.Markdown object>"
            ],
            "text/markdown": "**Precision**: 0.88<br>**Recall**: 0.48<br>**F1**: 0.62<br>**Confusion matrix**:"
          },
          "metadata": {}
        },
        {
          "output_type": "stream",
          "name": "stdout",
          "text": [
            "91836    15\n",
            "  118   110\n"
          ]
        },
        {
          "output_type": "display_data",
          "data": {
            "text/plain": [
              "<IPython.core.display.Markdown object>"
            ],
            "text/markdown": "####Fold 5####"
          },
          "metadata": {}
        },
        {
          "output_type": "display_data",
          "data": {
            "text/plain": [
              "<IPython.core.display.Markdown object>"
            ],
            "text/markdown": "**Precision**: 0.85<br>**Recall**: 0.44<br>**F1**: 0.58<br>**Confusion matrix**:"
          },
          "metadata": {}
        },
        {
          "output_type": "stream",
          "name": "stdout",
          "text": [
            "91832    18\n",
            "  128   100\n"
          ]
        }
      ],
      "source": [
        "best_params = {k.split('__')[1]: v for k, v in grid_search.best_params_.items()}\n",
        "\n",
        "best_clf = KNeighborsClassifier(**best_params)\n",
        "\n",
        "display(Markdown(\"### Αποτελέσματα k-Nearest neighbors:\\n\"))\n",
        "for i, (train_index, test_index) in enumerate(skf.split(X, y)):\n",
        "    display(Markdown(\"####Fold {}####\".format(i+1)))\n",
        "\n",
        "    X_train, y_train = X.iloc[train_index], y.iloc[train_index]\n",
        "    X_test, y_test = X.iloc[test_index], y.iloc[test_index]\n",
        "\n",
        "    #X_temp_resampled, y_temp_resampled = knn_pipeline['resampler1'].fit_resample(X_train, y_train) #use resampler1\n",
        "    #X_resampled, y_resampled = knn_pipeline['resampler2'].fit_resample(X_temp_resampled, y_temp_resampled) #use resampler2\n",
        "    #best_clf.fit(X_resampled, y_resampled) #fit the classifier using the resampled data\n",
        "    #y_pred = best_clf.predict(X_resampled)\n",
        "\n",
        "    #non-resampled fit/predict\n",
        "    best_clf.fit(X_train, y_train)\n",
        "    y_pred = best_clf.predict(X_test)\n",
        "\n",
        "    conf_matr = confusion_matrix(y_test, y_pred)\n",
        "\n",
        "    display(Markdown(\n",
        "    \"**Precision**: {:.2f}\".format(precision_score(y_test, y_pred)) + \"<br>\" +\n",
        "    \"**Recall**: {:.2f}\".format(recall_score(y_test, y_pred)) + \"<br>\" +\n",
        "    \"**F1**: {:.2f}\".format(f1_score(y_test, y_pred)) + \"<br>\" +\n",
        "    \"**Confusion matrix**:\"\n",
        "    ))\n",
        "\n",
        "    print(\"\\n\".join([' '.join(['{:5}'.format(item) for item in row])\n",
        "          for row in conf_matr]))\n",
        "    #print(f\"Confusion Matrix:\\n {conf_matr}\")\n",
        "    #print(f\"Elapsed time: {(time.time()-time_needed)/60} in seconds\")"
      ]
    },
    {
      "cell_type": "code",
      "execution_count": null,
      "metadata": {
        "colab": {
          "base_uri": "https://localhost:8080/"
        },
        "id": "_wud4InVYDj3",
        "outputId": "5b3574ee-7dd6-48d7-d04d-869dccff8c5c"
      },
      "outputs": [
        {
          "output_type": "stream",
          "name": "stdout",
          "text": [
            "Selected features:  Index(['step', 'type', 'amount', 'oldbalanceOrg', 'oldbalanceDest'], dtype='object')\n"
          ]
        }
      ],
      "source": [
        "selected_mask = grid_search.best_estimator_.named_steps['feature_selection'].get_support()\n",
        "#feature_names = list(range(X.shape[1])) # Replace this with the actual feature names\n",
        "#selected_features = [feature_names[i] for i in range(len(selected_mask)) if selected_mask[i]]\n",
        "selected_features = X.columns[selected_mask]\n",
        "\n",
        "#X.columns.to_numpy().tolist()\n",
        "print(\"Selected features: \", selected_features)\n",
        "#selected_features = knn_pipeline.named_steps['feature_selection'].get_feature_names_out()\n",
        "#print(selected_features)"
      ]
    },
    {
      "cell_type": "code",
      "execution_count": null,
      "metadata": {
        "colab": {
          "base_uri": "https://localhost:8080/",
          "height": 341
        },
        "id": "CdALeS4nFqfZ",
        "outputId": "3a7554b1-3f75-4c42-b214-9e81bb93fe81"
      },
      "outputs": [
        {
          "output_type": "execute_result",
          "data": {
            "text/plain": [
              "<AxesSubplot:>"
            ]
          },
          "metadata": {},
          "execution_count": 32
        },
        {
          "output_type": "display_data",
          "data": {
            "text/plain": [
              "<Figure size 720x360 with 2 Axes>"
            ],
            "image/png": "[encoded data removed]"
          },
          "metadata": {
            "needs_background": "light"
          }
        }
      ],
      "source": [
        "plt.figure(figsize=(10, 5))\n",
        "sns.heatmap(ds.loc[:, selected_features].corr(), annot=True, cmap='hot')"
      ]
    },
    {
      "cell_type": "code",
      "source": [
        "def train_test(clf_dictionary: dict, clfier: str):\n",
        "\n",
        "  time_needed = time.time()\n",
        "\n",
        "  clf_pipeline = Pipeline(\n",
        "      [('feature_selection', SelectKBest(f_classif, k=5)),\n",
        "      ('scaler', StandardScaler()),\n",
        "      ('resampler1', SMOTE(sampling_strategy='minority', random_state=42)),\n",
        "      ('resampler2', RandomUnderSampler(sampling_strategy='all', random_state=42)),\n",
        "      ('clf', clf_dictionary[clfier]['method'])])\n",
        "\n",
        "  params_grid = clf_dictionary[clfier]['params_grid']\n",
        "\n",
        "  skf = sklearn.model_selection.StratifiedKFold(n_splits=5, shuffle=True, random_state=42)\n",
        "  grid_search = sklearn.model_selection.GridSearchCV(clf_pipeline, params_grid, scoring=['precision', 'recall'], refit='precision', cv=skf)\n",
        "\n",
        "  grid_search.fit(X, y)\n",
        "\n",
        "  display(Markdown(\n",
        "      \"### Καλύτερα αποτελέσματα μέσω cross validation για {}:\\n\".format(clf_dictionary[clfier]['name']) +\n",
        "      \"{}\".format(grid_search.best_params_) + \"<br>\" +\n",
        "      #\"**Best number of neighbors**: {}\".format(grid_search.best_params_['clf__n_neighbors']) + \"<br>\" +\n",
        "      #\"**Best weight**: {}\".format(grid_search.best_params_['clf__weights']) + \"<br>\" +\n",
        "      \"**Best score:** {:.3f}\".format(grid_search.best_score_)\n",
        "  ))\n",
        "\n",
        "  #test\n",
        "  best_params = {k.split('__')[1]: v for k, v in grid_search.best_params_.items()}\n",
        "\n",
        "  best_clf = clf_dictionary[clfier]['method'](**best_params)\n",
        "\n",
        "  display(Markdown(\"### Αποτελέσματα {}:\\n\".format(clf_dictionary[clfier]['name'])))\n",
        "  for i, (train_index, test_index) in enumerate(skf.split(X, y)):\n",
        "      display(Markdown(\"####Fold {}####\".format(i+1)))\n",
        "\n",
        "      X_train, y_train = X.iloc[train_index], y.iloc[train_index]\n",
        "      X_test, y_test = X.iloc[test_index], y.iloc[test_index]\n",
        "\n",
        "      #X_temp_resampled, y_temp_resampled = knn_pipeline['resampler1'].fit_resample(X_train, y_train) #use resampler1\n",
        "      #X_resampled, y_resampled = knn_pipeline['resampler2'].fit_resample(X_temp_resampled, y_temp_resampled) #use resampler2\n",
        "      #best_clf.fit(X_resampled, y_resampled) #fit the classifier using the resampled data\n",
        "      #y_pred = best_clf.predict(X_resampled)\n",
        "\n",
        "      #non-resampled fit/predict\n",
        "      best_clf.fit(X_train, y_train)\n",
        "      y_pred = best_clf.predict(X_test)\n",
        "\n",
        "      conf_matr = confusion_matrix(y_test, y_pred)\n",
        "\n",
        "      display(Markdown(\n",
        "      \"**Precision**: {:.2f}\".format(precision_score(y_test, y_pred)) + \"<br>\" +\n",
        "      \"**Recall**: {:.2f}\".format(recall_score(y_test, y_pred)) + \"<br>\" +\n",
        "      \"**F1**: {:.2f}\".format(f1_score(y_test, y_pred)) + \"<br>\" +\n",
        "      \"**Confusion matrix**:\"\n",
        "      ))\n",
        "\n",
        "      print(\"\\n\".join([' '.join(['{:5}'.format(item) for item in row])\n",
        "            for row in conf_matr]))\n",
        "      #print(f\"Confusion Matrix:\\n {conf_matr}\")\n",
        "      #print(f\"Elapsed time: {(time.time()-time_needed)/60} in seconds\")"
      ],
      "metadata": {
        "id": "TvdMfII4xVlt"
      },
      "execution_count": null,
      "outputs": []
    },
    {
      "cell_type": "code",
      "source": [
        "def main():\n",
        "\n",
        "  classifiers_dict = {\n",
        "    'clf1': {\n",
        "        'name': 'K-Nearest Neighbor',\n",
        "        'method': KNeighborsClassifier(),\n",
        "        'params_grid': { 'clf__n_neighbors': [4],\n",
        "                         'clf__weights':   ['uniform']\n",
        "        }\n",
        "    },\n",
        "    'clf2': {\n",
        "        'name': 'Logistic Regression',\n",
        "        'method': LogisticRegression(),\n",
        "        'params_grid': { 'clf__C': np.logspace(-6, -5, 10)\n",
        "        }\n",
        "    },\n",
        "    'clf3': {\n",
        "        'name': 'SVM',\n",
        "        'method' : SVC(),\n",
        "        'params_grid': { 'clf__C': [1, 10, 20]\n",
        "                            #'clf__kernel': ['linear', 'poly'],\n",
        "                            #'clf__degree': [2],\n",
        "                            #'clf__gamma': ['scale']\n",
        "        }\n",
        "    },\n",
        "    'clf4': {\n",
        "        'name': 'Naive_Bayes',\n",
        "        'method': GaussianNB(),\n",
        "        'params_grid': { 'clf__criterion': [\"gini\", 'entropy', 'log_loss'],\n",
        "                         'clf__max_leaf_nodes': [4, 5, 6]\n",
        "        }\n",
        "    },\n",
        "    'clf5': {\n",
        "        'name': 'Decision_Tree',\n",
        "        'method': DecisionTreeClassifier(),\n",
        "        'params_grid': { 'clf__criterion': [\"gini\", 'entropy', 'log_loss'],\n",
        "                         'clf__max_leaf_nodes': [4, 5, 6]\n",
        "        }\n",
        "    },\n",
        "    'clf6': {\n",
        "        'name': 'Random_forest',\n",
        "        'method': RandomForestClassifier(),\n",
        "        'params_grid': { 'clf__n_estimators': [50, 100, 150],\n",
        "                         'clf__criterion': ['gini', \"entropy\"]\n",
        "        }\n",
        "    },\n",
        "    'clf7': {\n",
        "        'name': 'XGBoost',\n",
        "        'method': XGBClassifier(),\n",
        "        'params_grid': { 'clf__n_estimators': range(50, 150, 50)\n",
        "          }\n",
        "      }\n",
        "  }\n",
        "\n",
        "  train_test(classifiers_dict, 'clf2')\n",
        "\n",
        "if __name__ == '__main__':\n",
        "  main()"
      ],
      "metadata": {
        "colab": {
          "base_uri": "https://localhost:8080/",
          "height": 429
        },
        "id": "0QWFd5IsUyzb",
        "outputId": "5ff6b86b-d8ee-467a-f373-a5531ce8d7c3"
      },
      "execution_count": null,
      "outputs": [
        {
          "output_type": "display_data",
          "data": {
            "text/plain": [
              "<IPython.core.display.Markdown object>"
            ],
            "text/markdown": "### Καλύτερα αποτελέσματα μέσω cross validation για Logistic Regression:\n{'clf__C': 1e-06}<br>**Best score:** 0.043"
          },
          "metadata": {}
        },
        {
          "output_type": "error",
          "ename": "TypeError",
          "evalue": "ignored",
          "traceback": [
            "\u001b[0;31m---------------------------------------------------------------------------\u001b[0m",
            "\u001b[0;31mTypeError\u001b[0m                                 Traceback (most recent call last)",
            "\u001b[0;32m<ipython-input-14-3c63a3e62ed6>\u001b[0m in \u001b[0;36m<module>\u001b[0;34m\u001b[0m\n\u001b[1;32m     56\u001b[0m \u001b[0;34m\u001b[0m\u001b[0m\n\u001b[1;32m     57\u001b[0m \u001b[0;32mif\u001b[0m \u001b[0m__name__\u001b[0m \u001b[0;34m==\u001b[0m \u001b[0;34m'__main__'\u001b[0m\u001b[0;34m:\u001b[0m\u001b[0;34m\u001b[0m\u001b[0;34m\u001b[0m\u001b[0m\n\u001b[0;32m---> 58\u001b[0;31m   \u001b[0mmain\u001b[0m\u001b[0;34m(\u001b[0m\u001b[0;34m)\u001b[0m\u001b[0;34m\u001b[0m\u001b[0;34m\u001b[0m\u001b[0m\n\u001b[0m",
            "\u001b[0;32m<ipython-input-14-3c63a3e62ed6>\u001b[0m in \u001b[0;36mmain\u001b[0;34m()\u001b[0m\n\u001b[1;32m     53\u001b[0m   }\n\u001b[1;32m     54\u001b[0m \u001b[0;34m\u001b[0m\u001b[0m\n\u001b[0;32m---> 55\u001b[0;31m   \u001b[0mtrain_test\u001b[0m\u001b[0;34m(\u001b[0m\u001b[0mclassifiers_dict\u001b[0m\u001b[0;34m,\u001b[0m \u001b[0;34m'clf2'\u001b[0m\u001b[0;34m)\u001b[0m\u001b[0;34m\u001b[0m\u001b[0;34m\u001b[0m\u001b[0m\n\u001b[0m\u001b[1;32m     56\u001b[0m \u001b[0;34m\u001b[0m\u001b[0m\n\u001b[1;32m     57\u001b[0m \u001b[0;32mif\u001b[0m \u001b[0m__name__\u001b[0m \u001b[0;34m==\u001b[0m \u001b[0;34m'__main__'\u001b[0m\u001b[0;34m:\u001b[0m\u001b[0;34m\u001b[0m\u001b[0;34m\u001b[0m\u001b[0m\n",
            "\u001b[0;32m<ipython-input-13-4d0f4bc2ba77>\u001b[0m in \u001b[0;36mtrain_test\u001b[0;34m(clf_dictionary, clfier)\u001b[0m\n\u001b[1;32m     28\u001b[0m   \u001b[0mbest_params\u001b[0m \u001b[0;34m=\u001b[0m \u001b[0;34m{\u001b[0m\u001b[0mk\u001b[0m\u001b[0;34m.\u001b[0m\u001b[0msplit\u001b[0m\u001b[0;34m(\u001b[0m\u001b[0;34m'__'\u001b[0m\u001b[0;34m)\u001b[0m\u001b[0;34m[\u001b[0m\u001b[0;36m1\u001b[0m\u001b[0;34m]\u001b[0m\u001b[0;34m:\u001b[0m \u001b[0mv\u001b[0m \u001b[0;32mfor\u001b[0m \u001b[0mk\u001b[0m\u001b[0;34m,\u001b[0m \u001b[0mv\u001b[0m \u001b[0;32min\u001b[0m \u001b[0mgrid_search\u001b[0m\u001b[0;34m.\u001b[0m\u001b[0mbest_params_\u001b[0m\u001b[0;34m.\u001b[0m\u001b[0mitems\u001b[0m\u001b[0;34m(\u001b[0m\u001b[0;34m)\u001b[0m\u001b[0;34m}\u001b[0m\u001b[0;34m\u001b[0m\u001b[0;34m\u001b[0m\u001b[0m\n\u001b[1;32m     29\u001b[0m \u001b[0;34m\u001b[0m\u001b[0m\n\u001b[0;32m---> 30\u001b[0;31m   \u001b[0mbest_clf\u001b[0m \u001b[0;34m=\u001b[0m \u001b[0mclf_dictionary\u001b[0m\u001b[0;34m[\u001b[0m\u001b[0mclfier\u001b[0m\u001b[0;34m]\u001b[0m\u001b[0;34m[\u001b[0m\u001b[0;34m'method'\u001b[0m\u001b[0;34m]\u001b[0m\u001b[0;34m(\u001b[0m\u001b[0;34m**\u001b[0m\u001b[0mbest_params\u001b[0m\u001b[0;34m)\u001b[0m\u001b[0;34m\u001b[0m\u001b[0;34m\u001b[0m\u001b[0m\n\u001b[0m\u001b[1;32m     31\u001b[0m \u001b[0;34m\u001b[0m\u001b[0m\n\u001b[1;32m     32\u001b[0m   \u001b[0mdisplay\u001b[0m\u001b[0;34m(\u001b[0m\u001b[0mMarkdown\u001b[0m\u001b[0;34m(\u001b[0m\u001b[0;34m\"### Αποτελέσματα {}:\\n\"\u001b[0m\u001b[0;34m.\u001b[0m\u001b[0mformat\u001b[0m\u001b[0;34m(\u001b[0m\u001b[0mclf_dictionary\u001b[0m\u001b[0;34m[\u001b[0m\u001b[0mclfier\u001b[0m\u001b[0;34m]\u001b[0m\u001b[0;34m[\u001b[0m\u001b[0;34m'name'\u001b[0m\u001b[0;34m]\u001b[0m\u001b[0;34m)\u001b[0m\u001b[0;34m)\u001b[0m\u001b[0;34m)\u001b[0m\u001b[0;34m\u001b[0m\u001b[0;34m\u001b[0m\u001b[0m\n",
            "\u001b[0;31mTypeError\u001b[0m: 'LogisticRegression' object is not callable"
          ]
        }
      ]
    },
    {
      "cell_type": "code",
      "execution_count": null,
      "metadata": {
        "colab": {
          "base_uri": "https://localhost:8080/"
        },
        "id": "1EBIlydckUMH",
        "outputId": "47929cf6-74ef-434c-9a55-054e9acbb71b"
      },
      "outputs": [
        {
          "name": "stdout",
          "output_type": "stream",
          "text": [
            "Best parameters:  {'clf__C': 1e-06}\n",
            "Best score:  0.9636072583662842\n"
          ]
        }
      ],
      "source": [
        "from sklearn.linear_model import LogisticRegression\n",
        "\n",
        "time_needed = time.time()\n",
        "\n",
        "logisticReg_pipeline = Pipeline(\n",
        "    [('feature_selection', SelectKBest(f_classif, k=5)),\n",
        "     ('scaler', StandardScaler()),\n",
        "     ('resampler1', SMOTE(random_state=42)),\n",
        "     ('resampler2', RandomUnderSampler(random_state=42)),\n",
        "     ('clf', LogisticRegression())])\n",
        "\n",
        "params_grid_logReg = {\n",
        "    'clf__C': np.logspace(-6, -5, 10)\n",
        "}\n",
        "\n",
        "skf = sklearn.model_selection.StratifiedKFold(n_splits=5, shuffle=True, random_state=42)\n",
        "grid_search = sklearn.model_selection.GridSearchCV(logisticReg_pipeline, params_grid_logReg, scoring='accuracy', cv=skf)\n",
        "\n",
        "grid_search.fit(X, y)\n",
        "\n",
        "print(\"Best parameters: \", grid_search.best_params_)\n",
        "print(\"Best score: \", grid_search.best_score_)"
      ]
    },
    {
      "cell_type": "code",
      "execution_count": null,
      "metadata": {
        "colab": {
          "base_uri": "https://localhost:8080/"
        },
        "id": "7ghvoTojkmP-",
        "outputId": "a7065922-890d-4576-ef35-144d0dc47298"
      },
      "outputs": [
        {
          "name": "stdout",
          "output_type": "stream",
          "text": [
            "Fold 1\n",
            "Accuracy: 0.9981754797510833\n",
            "Elapsed time: 1.4453669309616088 in seconds\n",
            "Fold 2\n",
            "Accuracy: 0.9983166628655828\n",
            "Elapsed time: 1.5484772721926372 in seconds\n",
            "Fold 3\n",
            "Accuracy: 0.9980777375948914\n",
            "Elapsed time: 1.6008061607678732 in seconds\n",
            "Fold 4\n",
            "Accuracy: 0.9983601038238904\n",
            "Elapsed time: 1.6457454085350036 in seconds\n",
            "Fold 5\n",
            "Accuracy: 0.998197180651187\n",
            "Elapsed time: 1.6920347094535828 in seconds\n"
          ]
        }
      ],
      "source": [
        "best_params = {k.split('__')[1]: v for k, v in grid_search.best_params_.items()}\n",
        "\n",
        "best_clf = LogisticRegression(**best_params)\n",
        "\n",
        "for i, (train_index, test_index) in enumerate(skf.split(X, y)):\n",
        "    print(f\"Fold {i+1}\")\n",
        "    X_train, y_train = X.iloc[train_index], y.iloc[train_index]\n",
        "    X_test, y_test = X.iloc[test_index], y.iloc[test_index]\n",
        "    best_clf.fit(X_train, y_train)\n",
        "    y_pred = best_clf.predict(X_test)\n",
        "    acc = accuracy_score(y_test, y_pred)\n",
        "    print(f\"Accuracy: {acc}\")\n",
        "    print(f\"Elapsed time: {(time.time()-time_needed)/60} in seconds\")"
      ]
    },
    {
      "cell_type": "code",
      "execution_count": null,
      "metadata": {
        "colab": {
          "base_uri": "https://localhost:8080/"
        },
        "id": "i8GAzIhrmWCu",
        "outputId": "eb61a709-4cda-4620-ac5b-207143ec30e3"
      },
      "outputs": [
        {
          "name": "stdout",
          "output_type": "stream",
          "text": [
            "Best parameters:  {'clf__priors': None, 'clf__var_smoothing': 1e-09}\n",
            "Best score:  0.9481031442076429\n"
          ]
        }
      ],
      "source": [
        "from sklearn.naive_bayes import GaussianNB\n",
        "\n",
        "time_needed = time.time()\n",
        "\n",
        "naive_pipeline = Pipeline(\n",
        "    [('feature_selection', SelectKBest(f_classif, k=5)),\n",
        "     ('scaler', StandardScaler()),\n",
        "     ('resampler1', SMOTE(random_state=42)),\n",
        "     ('resampler2', RandomUnderSampler(random_state=42)),\n",
        "     ('clf', GaussianNB())])\n",
        "\n",
        "param_grid_naive = {'clf__var_smoothing': [1e-9, 1e-8, 1e-7],\n",
        "              'clf__priors': [None, [0.4, 0.6], [0.3, 0.7]]}\n",
        "\n",
        "skf = sklearn.model_selection.StratifiedKFold(n_splits=5, shuffle=True, random_state=42)\n",
        "grid_search = sklearn.model_selection.GridSearchCV(naive_pipeline, param_grid_naive, scoring='accuracy', cv=skf)\n",
        "\n",
        "grid_search.fit(X, y)\n",
        "\n",
        "print(\"Best parameters: \", grid_search.best_params_)\n",
        "print(\"Best score: \", grid_search.best_score_)"
      ]
    },
    {
      "cell_type": "code",
      "execution_count": null,
      "metadata": {
        "colab": {
          "base_uri": "https://localhost:8080/"
        },
        "id": "pR0zhoCQpSep",
        "outputId": "71ad4d82-2a4b-4466-a450-c20e94b9d032"
      },
      "outputs": [
        {
          "name": "stdout",
          "output_type": "stream",
          "text": [
            "Fold 1\n",
            "Accuracy: 0.9807882361884903\n",
            "Elapsed time: 0.5401689370473226 in seconds\n",
            "Fold 2\n",
            "Accuracy: 0.9802235037304923\n",
            "Elapsed time: 0.542344347635905 in seconds\n",
            "Fold 3\n",
            "Accuracy: 0.9811357638549506\n",
            "Elapsed time: 0.5445805152257284 in seconds\n",
            "Fold 4\n",
            "Accuracy: 0.9802995254075305\n",
            "Elapsed time: 0.5469307025273641 in seconds\n",
            "Fold 5\n",
            "Accuracy: 0.9795173657116792\n",
            "Elapsed time: 0.549260417620341 in seconds\n"
          ]
        }
      ],
      "source": [
        "best_params = {k.split('__')[1]: v for k, v in grid_search.best_params_.items()}\n",
        "\n",
        "best_clf = GaussianNB(**best_params)\n",
        "\n",
        "for i, (train_index, test_index) in enumerate(skf.split(X, y)):\n",
        "    print(f\"Fold {i+1}\")\n",
        "    X_train, y_train = X.iloc[train_index], y.iloc[train_index]\n",
        "    X_test, y_test = X.iloc[test_index], y.iloc[test_index]\n",
        "    best_clf.fit(X_train, y_train)\n",
        "    y_pred = best_clf.predict(X_test)\n",
        "    acc = accuracy_score(y_test, y_pred)\n",
        "    print(f\"Accuracy: {acc}\")\n",
        "    print(f\"Elapsed time: {(time.time()-time_needed)/60} in seconds\")"
      ]
    },
    {
      "cell_type": "code",
      "execution_count": null,
      "metadata": {
        "colab": {
          "base_uri": "https://localhost:8080/"
        },
        "id": "FptGAqVPpxN3",
        "outputId": "57feceb4-a6be-426d-e6f3-434dd62067b1"
      },
      "outputs": [
        {
          "name": "stdout",
          "output_type": "stream",
          "text": [
            "Best parameters:  {'clf__criterion': 'entropy', 'clf__max_leaf_nodes': 5}\n",
            "Best score:  0.948313781690423\n"
          ]
        }
      ],
      "source": [
        "from sklearn.tree import DecisionTreeClassifier\n",
        "\n",
        "time_needed = time.time()\n",
        "\n",
        "tree_pipeline = Pipeline(\n",
        "    [('feature_selection', SelectKBest(f_classif, k=5)),\n",
        "     ('scaler', StandardScaler()),\n",
        "     ('resampler1', SMOTE(random_state=42)),\n",
        "     ('resampler2', RandomUnderSampler(random_state=42)),\n",
        "     ('clf', DecisionTreeClassifier())])\n",
        "\n",
        "param_grid_tre = {'clf__criterion': [\"gini\", 'entropy', 'log_loss'],\n",
        "              'clf__max_leaf_nodes': [4, 5, 6]}\n",
        "\n",
        "skf = sklearn.model_selection.StratifiedKFold(n_splits=5, shuffle=True, random_state=42)\n",
        "grid_search = sklearn.model_selection.GridSearchCV(tree_pipeline, param_grid_tre, scoring='accuracy', cv=skf)\n",
        "\n",
        "grid_search.fit(X, y)\n",
        "\n",
        "print(\"Best parameters: \", grid_search.best_params_)\n",
        "print(\"Best score: \", grid_search.best_score_)"
      ]
    },
    {
      "cell_type": "code",
      "execution_count": null,
      "metadata": {
        "colab": {
          "base_uri": "https://localhost:8080/"
        },
        "id": "-qZs6o9WrAE0",
        "outputId": "3855d4f8-170d-4a97-f20f-b32f2e2ca381"
      },
      "outputs": [
        {
          "name": "stdout",
          "output_type": "stream",
          "text": [
            "Fold 1\n",
            "Accuracy: 0.9983492435843134\n",
            "Elapsed time: 2.7333113153775535 in seconds\n",
            "Fold 2\n",
            "Accuracy: 0.9984578459800824\n",
            "Elapsed time: 2.7608473539352416 in seconds\n",
            "Fold 3\n",
            "Accuracy: 0.9983709640634673\n",
            "Elapsed time: 2.797973342736562 in seconds\n",
            "Fold 4\n",
            "Accuracy: 0.9983275231051597\n",
            "Elapsed time: 2.825815534591675 in seconds\n",
            "Fold 5\n",
            "Accuracy: 0.9987510588848585\n",
            "Elapsed time: 2.8617082754770915 in seconds\n"
          ]
        }
      ],
      "source": [
        "best_params = {k.split('__')[1]: v for k, v in grid_search.best_params_.items()}\n",
        "\n",
        "best_clf = DecisionTreeClassifier(**best_params)\n",
        "\n",
        "for i, (train_index, test_index) in enumerate(skf.split(X, y)):\n",
        "    print(f\"Fold {i+1}\")\n",
        "    X_train, y_train = X.iloc[train_index], y.iloc[train_index]\n",
        "    X_test, y_test = X.iloc[test_index], y.iloc[test_index]\n",
        "    best_clf.fit(X_train, y_train)\n",
        "    y_pred = best_clf.predict(X_test)\n",
        "    acc = accuracy_score(y_test, y_pred)\n",
        "    print(f\"Accuracy: {acc}\")\n",
        "    print(f\"Elapsed time: {(time.time()-time_needed)/60} in seconds\")"
      ]
    },
    {
      "cell_type": "code",
      "execution_count": null,
      "metadata": {
        "colab": {
          "base_uri": "https://localhost:8080/"
        },
        "id": "dJPGDSnwrJZT",
        "outputId": "0bf7af7d-7d0e-4989-c12c-2c0431b874b3"
      },
      "outputs": [
        {
          "output_type": "stream",
          "name": "stdout",
          "text": [
            "Best parameters:  {'clf__criterion': 'gini', 'clf__n_estimators': 50}\n",
            "Best score:  0.9981385509971226\n"
          ]
        }
      ],
      "source": [
        "from sklearn.ensemble import RandomForestClassifier\n",
        "\n",
        "time_needed = time.time()\n",
        "\n",
        "forest_pipeline = Pipeline(\n",
        "    [('feature_selection', SelectKBest(f_classif, k=5)),\n",
        "     ('scaler', StandardScaler()),\n",
        "     ('resampler1', SMOTE(random_state=42)),\n",
        "     ('resampler2', RandomUnderSampler(random_state=42)),\n",
        "     ('clf', RandomForestClassifier())])\n",
        "\n",
        "param_grid_fores = {'clf__n_estimators': [50, 100, 150],\n",
        "              'clf__criterion': ['gini', \"entropy\"]}\n",
        "\n",
        "skf = sklearn.model_selection.StratifiedKFold(n_splits=5, shuffle=True, random_state=42)\n",
        "grid_search = sklearn.model_selection.GridSearchCV(forest_pipeline, param_grid_fores, scoring='accuracy', cv=skf)\n",
        "\n",
        "grid_search.fit(X, y)\n",
        "\n",
        "print(\"Best parameters: \", grid_search.best_params_)\n",
        "print(\"Best score: \", grid_search.best_score_)"
      ]
    },
    {
      "cell_type": "code",
      "execution_count": null,
      "metadata": {
        "id": "bDVV6MEysHyp",
        "colab": {
          "base_uri": "https://localhost:8080/"
        },
        "outputId": "9dff4f6f-9a1f-4dca-bbef-8ac5366d5cbf"
      },
      "outputs": [
        {
          "output_type": "stream",
          "name": "stdout",
          "text": [
            "Fold 1\n",
            "Accuracy: 0.9994026868232713\n",
            "Elapsed time: 113.54401630560557 in seconds\n",
            "Fold 2\n",
            "Accuracy: 0.9994461277815788\n",
            "Elapsed time: 115.06471886634827 in seconds\n",
            "Fold 3\n",
            "Accuracy: 0.999435267542002\n",
            "Elapsed time: 116.67034480571746 in seconds\n",
            "Fold 4\n",
            "Accuracy: 0.9993809663441175\n",
            "Elapsed time: 118.23058296442032 in seconds\n",
            "Fold 5\n",
            "Accuracy: 0.9994461217663285\n",
            "Elapsed time: 119.86167944669724 in seconds\n"
          ]
        }
      ],
      "source": [
        "best_params = {k.split('__')[1]: v for k, v in grid_search.best_params_.items()}\n",
        "\n",
        "best_clf = RandomForestClassifier(**best_params)\n",
        "\n",
        "for i, (train_index, test_index) in enumerate(skf.split(X, y)):\n",
        "    print(f\"Fold {i+1}\")\n",
        "    X_train, y_train = X.iloc[train_index], y.iloc[train_index]\n",
        "    X_test, y_test = X.iloc[test_index], y.iloc[test_index]\n",
        "    best_clf.fit(X_train, y_train)\n",
        "    y_pred = best_clf.predict(X_test)\n",
        "    acc = accuracy_score(y_test, y_pred)\n",
        "    print(f\"Accuracy: {acc}\")\n",
        "    print(f\"Elapsed time: {(time.time()-time_needed)/60} in seconds\")"
      ]
    },
    {
      "cell_type": "code",
      "execution_count": null,
      "metadata": {
        "id": "tob9_rmlsbs4",
        "colab": {
          "base_uri": "https://localhost:8080/"
        },
        "outputId": "12278129-c3d2-4de6-cd86-499341ca174d"
      },
      "outputs": [
        {
          "output_type": "stream",
          "name": "stdout",
          "text": [
            "[Pipeline] . (step 1 of 5) Processing feature_selection, total=   0.1s\n",
            "[Pipeline] ............ (step 2 of 5) Processing scaler, total=   0.0s\n",
            "[Pipeline] ........ (step 3 of 5) Processing resampler1, total=   0.2s\n",
            "[Pipeline] ........ (step 4 of 5) Processing resampler2, total=   0.3s\n",
            "[Pipeline] ............... (step 5 of 5) Processing clf, total=  55.0s\n",
            "[Pipeline] . (step 1 of 5) Processing feature_selection, total=   0.1s\n",
            "[Pipeline] ............ (step 2 of 5) Processing scaler, total=   0.0s\n",
            "[Pipeline] ........ (step 3 of 5) Processing resampler1, total=   0.2s\n",
            "[Pipeline] ........ (step 4 of 5) Processing resampler2, total=   0.3s\n",
            "[Pipeline] ............... (step 5 of 5) Processing clf, total=  50.6s\n",
            "[Pipeline] . (step 1 of 5) Processing feature_selection, total=   0.1s\n",
            "[Pipeline] ............ (step 2 of 5) Processing scaler, total=   0.0s\n",
            "[Pipeline] ........ (step 3 of 5) Processing resampler1, total=   0.1s\n",
            "[Pipeline] ........ (step 4 of 5) Processing resampler2, total=   0.2s\n",
            "[Pipeline] ............... (step 5 of 5) Processing clf, total=  56.2s\n",
            "[Pipeline] . (step 1 of 5) Processing feature_selection, total=   0.1s\n",
            "[Pipeline] ............ (step 2 of 5) Processing scaler, total=   0.0s\n",
            "[Pipeline] ........ (step 3 of 5) Processing resampler1, total=   0.1s\n",
            "[Pipeline] ........ (step 4 of 5) Processing resampler2, total=   0.2s\n",
            "[Pipeline] ............... (step 5 of 5) Processing clf, total=  54.4s\n",
            "[Pipeline] . (step 1 of 5) Processing feature_selection, total=   0.1s\n",
            "[Pipeline] ............ (step 2 of 5) Processing scaler, total=   0.0s\n",
            "[Pipeline] ........ (step 3 of 5) Processing resampler1, total=   0.1s\n",
            "[Pipeline] ........ (step 4 of 5) Processing resampler2, total=   0.2s\n",
            "[Pipeline] ............... (step 5 of 5) Processing clf, total=  55.1s\n",
            "[Pipeline] . (step 1 of 5) Processing feature_selection, total=   0.1s\n",
            "[Pipeline] ............ (step 2 of 5) Processing scaler, total=   0.0s\n",
            "[Pipeline] ........ (step 3 of 5) Processing resampler1, total=   0.1s\n",
            "[Pipeline] ........ (step 4 of 5) Processing resampler2, total=   0.2s\n",
            "[Pipeline] ............... (step 5 of 5) Processing clf, total= 1.8min\n",
            "[Pipeline] . (step 1 of 5) Processing feature_selection, total=   0.1s\n",
            "[Pipeline] ............ (step 2 of 5) Processing scaler, total=   0.0s\n",
            "[Pipeline] ........ (step 3 of 5) Processing resampler1, total=   0.1s\n",
            "[Pipeline] ........ (step 4 of 5) Processing resampler2, total=   0.2s\n",
            "[Pipeline] ............... (step 5 of 5) Processing clf, total= 1.8min\n",
            "[Pipeline] . (step 1 of 5) Processing feature_selection, total=   0.1s\n",
            "[Pipeline] ............ (step 2 of 5) Processing scaler, total=   0.0s\n",
            "[Pipeline] ........ (step 3 of 5) Processing resampler1, total=   0.1s\n",
            "[Pipeline] ........ (step 4 of 5) Processing resampler2, total=   0.2s\n",
            "[Pipeline] ............... (step 5 of 5) Processing clf, total= 1.8min\n",
            "[Pipeline] . (step 1 of 5) Processing feature_selection, total=   0.1s\n",
            "[Pipeline] ............ (step 2 of 5) Processing scaler, total=   0.0s\n",
            "[Pipeline] ........ (step 3 of 5) Processing resampler1, total=   0.1s\n",
            "[Pipeline] ........ (step 4 of 5) Processing resampler2, total=   0.3s\n",
            "[Pipeline] ............... (step 5 of 5) Processing clf, total= 1.8min\n",
            "[Pipeline] . (step 1 of 5) Processing feature_selection, total=   0.1s\n",
            "[Pipeline] ............ (step 2 of 5) Processing scaler, total=   0.0s\n",
            "[Pipeline] ........ (step 3 of 5) Processing resampler1, total=   0.1s\n",
            "[Pipeline] ........ (step 4 of 5) Processing resampler2, total=   0.2s\n",
            "[Pipeline] ............... (step 5 of 5) Processing clf, total= 1.7min\n",
            "[Pipeline] . (step 1 of 5) Processing feature_selection, total=   0.1s\n",
            "[Pipeline] ............ (step 2 of 5) Processing scaler, total=   0.0s\n",
            "[Pipeline] ........ (step 3 of 5) Processing resampler1, total=   0.1s\n",
            "[Pipeline] ........ (step 4 of 5) Processing resampler2, total=   0.2s\n",
            "[Pipeline] ............... (step 5 of 5) Processing clf, total= 2.2min\n",
            "Best parameters:  {'clf__n_estimators': 100}\n",
            "Best score:  0.9975781611488348\n"
          ]
        }
      ],
      "source": [
        "from xgboost import XGBClassifier\n",
        "\n",
        "time_needed = time.time()\n",
        "\n",
        "xgb_pipeline = Pipeline(\n",
        "    [('feature_selection', SelectKBest(f_classif, k=5)),\n",
        "     ('scaler', StandardScaler()),\n",
        "     ('resampler1', SMOTE(random_state=42)),\n",
        "     ('resampler2', RandomUnderSampler(random_state=42)),\n",
        "     ('clf', XGBClassifier())],\n",
        "     verbose=True)\n",
        "\n",
        "param_grid_xgb = {'clf__n_estimators': range(50, 150, 50)}\n",
        "\n",
        "skf = sklearn.model_selection.StratifiedKFold(n_splits=5, shuffle=True, random_state=42)\n",
        "grid_search = sklearn.model_selection.GridSearchCV(xgb_pipeline, param_grid_xgb, scoring='accuracy', cv=skf)\n",
        "\n",
        "grid_search.fit(X, y)\n",
        "\n",
        "print(\"Best parameters: \", grid_search.best_params_)\n",
        "print(\"Best score: \", grid_search.best_score_)"
      ]
    },
    {
      "cell_type": "code",
      "source": [
        "best_params = {k.split('__')[1]: v for k, v in grid_search.best_params_.items()}\n",
        "\n",
        "best_clf = XGBClassifier(**best_params)\n",
        "\n",
        "for i, (train_index, test_index) in enumerate(skf.split(X, y)):\n",
        "    print(f\"Fold {i+1}\")\n",
        "    X_train, y_train = X.iloc[train_index], y.iloc[train_index]\n",
        "    X_test, y_test = X.iloc[test_index], y.iloc[test_index]\n",
        "    best_clf.fit(X_train, y_train)\n",
        "    y_pred = best_clf.predict(X_test)\n",
        "    acc = accuracy_score(y_test, y_pred)\n",
        "    print(f\"Accuracy: {acc}\")\n",
        "    print(f\"Elapsed time: {(time.time()-time_needed)/60} in seconds\")"
      ],
      "metadata": {
        "colab": {
          "base_uri": "https://localhost:8080/"
        },
        "id": "Tuf4pvtgfIFz",
        "outputId": "1370a929-c4de-4db0-8024-79c484c2c0a9"
      },
      "execution_count": null,
      "outputs": [
        {
          "output_type": "stream",
          "name": "stdout",
          "text": [
            "Fold 1\n",
            "Accuracy: 0.9994787085003095\n",
            "Elapsed time: 16.852334209283192 in seconds\n",
            "Fold 2\n",
            "Accuracy: 0.9995873108960783\n",
            "Elapsed time: 18.052921636899313 in seconds\n",
            "Fold 3\n",
            "Accuracy: 0.9995655904169246\n",
            "Elapsed time: 19.228132383028665 in seconds\n",
            "Fold 4\n",
            "Accuracy: 0.9994895687398864\n",
            "Elapsed time: 20.3882496992747 in seconds\n",
            "Fold 5\n",
            "Accuracy: 0.9995655856990812\n",
            "Elapsed time: 21.499321846167245 in seconds\n"
          ]
        }
      ]
    }
  ],
  "metadata": {
    "colab": {
      "provenance": [],
      "include_colab_link": true
    },
    "kernelspec": {
      "display_name": "Python 3",
      "name": "python3"
    },
    "language_info": {
      "name": "python"
    }
  },
  "nbformat": 4,
  "nbformat_minor": 0
}