{
  "cells": [
    {
      "cell_type": "markdown",
      "metadata": {
        "id": "view-in-github",
        "colab_type": "text"
      },
      "source": [
        "<a href=\"https://colab.research.google.com/github/GeorgeKonstantinosDimou/Skroutz/blob/main/thesisTradML.ipynb\" target=\"_parent\"><img src=\"https://colab.research.google.com/assets/colab-badge.svg\" alt=\"Open In Colab\"/></a>"
      ]
    },
    {
      "cell_type": "markdown",
      "metadata": {
        "id": "WbCGDvNpSVRz"
      },
      "source": [
        "# Importing the required libraries"
      ]
    },
    {
      "cell_type": "code",
      "execution_count": null,
      "metadata": {
        "id": "KVSolhy5SOqj"
      },
      "outputs": [],
      "source": [
        "import pandas as pd\n",
        "import numpy as np\n",
        "import sklearn\n",
        "from IPython.display import Markdown\n",
        "import seaborn as sns\n",
        "import matplotlib.pyplot as plt\n",
        "from sklearn.neighbors import KNeighborsClassifier\n",
        "from sklearn.linear_model import LogisticRegression\n",
        "from sklearn.svm import SVC\n",
        "from sklearn.naive_bayes import GaussianNB\n",
        "from sklearn.tree import DecisionTreeClassifier\n",
        "from sklearn.ensemble import RandomForestClassifier\n",
        "from xgboost import XGBClassifier\n",
        "from sklearn.preprocessing import LabelEncoder\n",
        "from sklearn.feature_selection import VarianceThreshold, SelectKBest, f_classif, SequentialFeatureSelector\n",
        "from sklearn.preprocessing import MinMaxScaler, StandardScaler\n",
        "from imblearn.over_sampling import SMOTE\n",
        "from imblearn.under_sampling import RandomUnderSampler\n",
        "from imblearn.pipeline import make_pipeline, Pipeline\n",
        "from sklearn.metrics import accuracy_score, confusion_matrix, precision_score, recall_score, f1_score\n",
        "from tqdm import tqdm\n",
        "from google.colab import files\n",
        "import time\n",
        "import os"
      ]
    },
    {
      "cell_type": "markdown",
      "metadata": {
        "id": "iY9jxc6xSccu"
      },
      "source": [
        "# Dataset loading"
      ]
    },
    {
      "cell_type": "code",
      "execution_count": null,
      "metadata": {
        "colab": {
          "base_uri": "https://localhost:8080/"
        },
        "id": "2dKPylRtUH6D",
        "outputId": "11b5b47b-88fb-4ec6-8219-0d7c15e1d471"
      },
      "outputs": [
        {
          "output_type": "stream",
          "name": "stdout",
          "text": [
            "<class 'pandas.core.frame.DataFrame'>\n",
            "RangeIndex: 1048575 entries, 0 to 1048574\n",
            "Data columns (total 11 columns):\n",
            " #   Column          Non-Null Count    Dtype  \n",
            "---  ------          --------------    -----  \n",
            " 0   step            1048575 non-null  int64  \n",
            " 1   type            1048575 non-null  object \n",
            " 2   amount          1048575 non-null  float64\n",
            " 3   nameOrig        1048575 non-null  object \n",
            " 4   oldbalanceOrg   1048575 non-null  float64\n",
            " 5   newbalanceOrig  1048575 non-null  float64\n",
            " 6   nameDest        1048575 non-null  object \n",
            " 7   oldbalanceDest  1048575 non-null  float64\n",
            " 8   newbalanceDest  1048575 non-null  float64\n",
            " 9   isFraud         1048575 non-null  int64  \n",
            " 10  isFlaggedFraud  1048575 non-null  int64  \n",
            "dtypes: float64(5), int64(3), object(3)\n",
            "memory usage: 88.0+ MB\n"
          ]
        }
      ],
      "source": [
        "ds = pd.read_csv(\"/content/drive/MyDrive/Πτυχιακή /Πτυχιακή/datasets/original.csv\")\n",
        "ds.info()"
      ]
    },
    {
      "cell_type": "markdown",
      "metadata": {
        "id": "52f_zmh_3opr"
      },
      "source": [
        "##General info/Statistics"
      ]
    },
    {
      "cell_type": "code",
      "execution_count": null,
      "metadata": {
        "id": "D3Ny9Nhu3oD5"
      },
      "outputs": [],
      "source": [
        "print(ds['isFraud'].value_counts(),'\\n')\n",
        "print(ds.nunique(),'\\n')\n",
        "print(ds['isFlaggedFraud'].value_counts())\n",
        "print(\"isFlaggedFraud column contains only 0's and hence will be dropped in the preprocessing\")"
      ]
    },
    {
      "cell_type": "code",
      "execution_count": null,
      "metadata": {
        "id": "Bw-jjq8e4uFP"
      },
      "outputs": [],
      "source": [
        "plt.figure(figsize=(10, 5))\n",
        "sns.heatmap(ds.corr(), annot=True, cmap='hot')"
      ]
    },
    {
      "cell_type": "code",
      "execution_count": null,
      "metadata": {
        "id": "ZbNeUz2m8Tqh"
      },
      "outputs": [],
      "source": [
        "from numpy.core.multiarray import result_type\n",
        "plt.figure(figsize=(10, 8))\n",
        "plt.pie(ds.type.value_counts().values,labels=ds.type.value_counts().index,  autopct='%.0f%%')\n",
        "plt.title(\"Transaction Type\")\n",
        "plt.show()\n",
        "\n",
        "print(\"\\n\")\n",
        "result = ds.groupby('type')['isFraud'].value_counts()\n",
        "print(result)\n",
        "print(\"Only two type of categories contain fraudulent transactions all the other are not usefull\")"
      ]
    },
    {
      "cell_type": "markdown",
      "metadata": {
        "id": "7k2c02rSZX1Z"
      },
      "source": [
        "#Dataset processing"
      ]
    },
    {
      "cell_type": "markdown",
      "metadata": {
        "id": "nuo-IwKmnacK"
      },
      "source": []
    },
    {
      "cell_type": "code",
      "execution_count": null,
      "metadata": {
        "colab": {
          "base_uri": "https://localhost:8080/",
          "height": 17
        },
        "id": "kW_Sdgb_VNEX",
        "outputId": "0a123442-9581-4e95-9e47-2e69ff39cebf"
      },
      "outputs": [
        {
          "output_type": "display_data",
          "data": {
            "text/plain": [
              "<IPython.core.display.Javascript object>"
            ],
            "application/javascript": [
              "\n",
              "    async function download(id, filename, size) {\n",
              "      if (!google.colab.kernel.accessAllowed) {\n",
              "        return;\n",
              "      }\n",
              "      const div = document.createElement('div');\n",
              "      const label = document.createElement('label');\n",
              "      label.textContent = `Downloading \"${filename}\": `;\n",
              "      div.appendChild(label);\n",
              "      const progress = document.createElement('progress');\n",
              "      progress.max = size;\n",
              "      div.appendChild(progress);\n",
              "      document.body.appendChild(div);\n",
              "\n",
              "      const buffers = [];\n",
              "      let downloaded = 0;\n",
              "\n",
              "      const channel = await google.colab.kernel.comms.open(id);\n",
              "      // Send a message to notify the kernel that we're ready.\n",
              "      channel.send({})\n",
              "\n",
              "      for await (const message of channel.messages) {\n",
              "        // Send a message to notify the kernel that we're ready.\n",
              "        channel.send({})\n",
              "        if (message.buffers) {\n",
              "          for (const buffer of message.buffers) {\n",
              "            buffers.push(buffer);\n",
              "            downloaded += buffer.byteLength;\n",
              "            progress.value = downloaded;\n",
              "          }\n",
              "        }\n",
              "      }\n",
              "      const blob = new Blob(buffers, {type: 'application/binary'});\n",
              "      const a = document.createElement('a');\n",
              "      a.href = window.URL.createObjectURL(blob);\n",
              "      a.download = filename;\n",
              "      div.appendChild(a);\n",
              "      a.click();\n",
              "      div.remove();\n",
              "    }\n",
              "  "
            ]
          },
          "metadata": {}
        },
        {
          "output_type": "display_data",
          "data": {
            "text/plain": [
              "<IPython.core.display.Javascript object>"
            ],
            "application/javascript": [
              "download(\"download_98a34ca4-2fb8-4d0b-985b-efacde8ee9b5\", \"output_preProcessed.csv\", 35340999)"
            ]
          },
          "metadata": {}
        }
      ],
      "source": [
        "ds.drop(columns=\"isFlaggedFraud\", inplace = True)\n",
        "ds = ds[~(ds['type'].isin(['CASH_IN', 'DEBIT', 'PAYMENT']))]\n",
        "\n",
        "#make the dataframe into a csv to upload it into Neo4j\n",
        "ds.to_csv('output_preProcessed.csv', index=False)\n",
        "files.download('output_preProcessed.csv')\n",
        "\n",
        "#One hot encoding\n",
        "encoder = {}\n",
        "for i in ds.select_dtypes('object').columns:\n",
        "    encoder[i] = LabelEncoder()\n",
        "    ds[i] = encoder[i].fit_transform(ds[i])\n",
        "#print(ds)\n",
        "\n",
        "X = ds.drop('isFraud', axis=1)\n",
        "y = ds['isFraud']"
      ]
    },
    {
      "cell_type": "markdown",
      "metadata": {
        "id": "AFeI_u-8qR1u"
      },
      "source": [
        "#Stratified sampling & Training"
      ]
    },
    {
      "cell_type": "code",
      "execution_count": null,
      "metadata": {
        "id": "NqZLqwq5kCxE"
      },
      "outputs": [],
      "source": [
        "def train(clf_dictionary: dict, clfier: str):\n",
        "\n",
        "  clf_pipeline = Pipeline(\n",
        "      [('feature_selection', SelectKBest(f_classif, k=9)),\n",
        "      ('scaler', StandardScaler()),\n",
        "      ('resampler1', SMOTE(sampling_strategy='minority', random_state=42)),\n",
        "      ('resampler2', RandomUnderSampler(sampling_strategy='all', random_state=42)),\n",
        "      ('clf', clf_dictionary[clfier]['method']())],\n",
        "      #verbose=True\n",
        "      )\n",
        "\n",
        "  params_grid = clf_dictionary[clfier]['params_grid']\n",
        "\n",
        "  skf = sklearn.model_selection.StratifiedKFold(n_splits=5, shuffle=True, random_state=42)\n",
        "  grid_search = sklearn.model_selection.GridSearchCV(clf_pipeline, params_grid, scoring=['precision', 'recall'], refit='precision', cv=skf)\n",
        "\n",
        "  grid_search.fit(X, y)\n",
        "\n",
        "  display(Markdown(\n",
        "      \"### Καλύτερα αποτελέσματα μέσω cross validation για {}:\\n\".format(clf_dictionary[clfier]['name']) +\n",
        "      \"{}\".format(grid_search.best_params_) + \"<br>\" +\n",
        "      \"**Best score:** {:.3f}\".format(grid_search.best_score_)\n",
        "  ))\n",
        "  return grid_search, skf"
      ]
    },
    {
      "cell_type": "markdown",
      "metadata": {
        "id": "GLxxx1sKkGjD"
      },
      "source": [
        "# Testing"
      ]
    },
    {
      "cell_type": "code",
      "execution_count": null,
      "metadata": {
        "id": "HZ5udstlkGLM"
      },
      "outputs": [],
      "source": [
        "def test(clf_dictionary: dict, clfier: str, grid_search, skf):\n",
        "\n",
        "  time_needed = time.time()\n",
        "  best_params = {k.split('__')[1]: v for k, v in grid_search.best_params_.items()}\n",
        "\n",
        "  best_clf = clf_dictionary[clfier]['method'](**best_params)\n",
        "\n",
        "  display(Markdown(\"### Αποτελέσματα {}:\\n\".format(clf_dictionary[clfier]['name'])))\n",
        "  for i, (train_index, test_index) in enumerate(skf.split(X, y)):\n",
        "      display(Markdown(\"####Fold {}####\".format(i+1)))\n",
        "\n",
        "      X_train, y_train = X.iloc[train_index], y.iloc[train_index]\n",
        "      X_test, y_test = X.iloc[test_index], y.iloc[test_index]\n",
        "\n",
        "      #X_temp_resampled, y_temp_resampled = knn_pipeline['resampler1'].fit_resample(X_train, y_train) #use resampler1\n",
        "      #X_resampled, y_resampled = knn_pipeline['resampler2'].fit_resample(X_temp_resampled, y_temp_resampled) #use resampler2\n",
        "      #best_clf.fit(X_resampled, y_resampled) #fit the classifier using the resampled data\n",
        "      #y_pred = best_clf.predict(X_resampled)\n",
        "\n",
        "      #non-resampled fit/predict\n",
        "      best_clf.fit(X_train, y_train)\n",
        "      y_pred = best_clf.predict(X_test)\n",
        "\n",
        "      conf_matr = confusion_matrix(y_test, y_pred)\n",
        "\n",
        "      display(Markdown(\n",
        "      \"**Precision**: {:.2f}\".format(precision_score(y_test, y_pred)) + \"<br>\" +\n",
        "      \"**Recall**: {:.2f}\".format(recall_score(y_test, y_pred)) + \"<br>\" +\n",
        "      \"**F1**: {:.2f}\".format(f1_score(y_test, y_pred)) + \"<br>\" +\n",
        "      \"**Confusion matrix**:\"\n",
        "      ))\n",
        "\n",
        "      print(\"\\n\".join([' '.join(['{:5}'.format(item) for item in row])\n",
        "            for row in conf_matr]))\n",
        "      #print(f\"Elapsed time: {(time.time()-time_needed)/60} in seconds\")"
      ]
    },
    {
      "cell_type": "markdown",
      "metadata": {
        "id": "UP49UfvlkT19"
      },
      "source": [
        "#Visualization"
      ]
    },
    {
      "cell_type": "code",
      "execution_count": null,
      "metadata": {
        "id": "roCiwUFdkW10"
      },
      "outputs": [],
      "source": [
        "def plotVis(grid_search):\n",
        "\n",
        "  selected_mask = grid_search.best_estimator_.named_steps['feature_selection'].get_support()\n",
        "  #feature_names = list(range(X.shape[1])) # Replace this with the actual feature names\n",
        "  #selected_features = [feature_names[i] for i in range(len(selected_mask)) if selected_mask[i]]\n",
        "  selected_features = X.columns[selected_mask]\n",
        "\n",
        "  #X.columns.to_numpy().tolist()\n",
        "  display(Markdown(\n",
        "      \"**The selected features are**: {}\".format(selected_features)\n",
        "  ))\n",
        "  #print(\"Selected features: \", selected_features)\n",
        "  #selected_features = knn_pipeline.named_steps['feature_selection'].get_feature_names_out()\n",
        "  #print(selected_features)\n",
        "  print(\"\\n\")\n",
        "  plt.figure(figsize=(10, 5))\n",
        "  sns.heatmap(ds.loc[:, selected_features].corr(), annot=True, cmap='hot')"
      ]
    },
    {
      "cell_type": "markdown",
      "metadata": {
        "id": "5W0VHUvrkZOM"
      },
      "source": [
        "# Execution in main"
      ]
    },
    {
      "cell_type": "code",
      "execution_count": null,
      "metadata": {
        "colab": {
          "base_uri": "https://localhost:8080/",
          "height": 1000
        },
        "id": "TnU1MWLakdlI",
        "outputId": "b317b468-f1b1-410f-a9a3-71bd8562b177"
      },
      "outputs": [
        {
          "output_type": "display_data",
          "data": {
            "text/plain": [
              "<IPython.core.display.Markdown object>"
            ],
            "text/markdown": "### Καλύτερα αποτελέσματα μέσω cross validation για K-Nearest Neighbor:\n{'clf__n_neighbors': 4, 'clf__weights': 'uniform'}<br>**Best score:** 0.185"
          },
          "metadata": {}
        },
        {
          "output_type": "display_data",
          "data": {
            "text/plain": [
              "<IPython.core.display.Markdown object>"
            ],
            "text/markdown": "### Αποτελέσματα K-Nearest Neighbor:\n"
          },
          "metadata": {}
        },
        {
          "output_type": "display_data",
          "data": {
            "text/plain": [
              "<IPython.core.display.Markdown object>"
            ],
            "text/markdown": "####Fold 1####"
          },
          "metadata": {}
        },
        {
          "output_type": "display_data",
          "data": {
            "text/plain": [
              "<IPython.core.display.Markdown object>"
            ],
            "text/markdown": "**Precision**: 0.77<br>**Recall**: 0.44<br>**F1**: 0.56<br>**Confusion matrix**:"
          },
          "metadata": {}
        },
        {
          "output_type": "stream",
          "name": "stdout",
          "text": [
            "91820    30\n",
            "  128   101\n",
            "Elapsed time: 0.1756010929743449 in seconds\n"
          ]
        },
        {
          "output_type": "display_data",
          "data": {
            "text/plain": [
              "<IPython.core.display.Markdown object>"
            ],
            "text/markdown": "####Fold 2####"
          },
          "metadata": {}
        },
        {
          "output_type": "display_data",
          "data": {
            "text/plain": [
              "<IPython.core.display.Markdown object>"
            ],
            "text/markdown": "**Precision**: 0.88<br>**Recall**: 0.43<br>**F1**: 0.58<br>**Confusion matrix**:"
          },
          "metadata": {}
        },
        {
          "output_type": "stream",
          "name": "stdout",
          "text": [
            "91837    13\n",
            "  131    98\n",
            "Elapsed time: 0.3463475743929545 in seconds\n"
          ]
        },
        {
          "output_type": "display_data",
          "data": {
            "text/plain": [
              "<IPython.core.display.Markdown object>"
            ],
            "text/markdown": "####Fold 3####"
          },
          "metadata": {}
        },
        {
          "output_type": "display_data",
          "data": {
            "text/plain": [
              "<IPython.core.display.Markdown object>"
            ],
            "text/markdown": "**Precision**: 0.77<br>**Recall**: 0.39<br>**F1**: 0.52<br>**Confusion matrix**:"
          },
          "metadata": {}
        },
        {
          "output_type": "stream",
          "name": "stdout",
          "text": [
            "91824    27\n",
            "  138    90\n",
            "Elapsed time: 0.5018084327379863 in seconds\n"
          ]
        },
        {
          "output_type": "display_data",
          "data": {
            "text/plain": [
              "<IPython.core.display.Markdown object>"
            ],
            "text/markdown": "####Fold 4####"
          },
          "metadata": {}
        },
        {
          "output_type": "display_data",
          "data": {
            "text/plain": [
              "<IPython.core.display.Markdown object>"
            ],
            "text/markdown": "**Precision**: 0.88<br>**Recall**: 0.48<br>**F1**: 0.62<br>**Confusion matrix**:"
          },
          "metadata": {}
        },
        {
          "output_type": "stream",
          "name": "stdout",
          "text": [
            "91836    15\n",
            "  118   110\n",
            "Elapsed time: 0.675246512889862 in seconds\n"
          ]
        },
        {
          "output_type": "display_data",
          "data": {
            "text/plain": [
              "<IPython.core.display.Markdown object>"
            ],
            "text/markdown": "####Fold 5####"
          },
          "metadata": {}
        },
        {
          "output_type": "display_data",
          "data": {
            "text/plain": [
              "<IPython.core.display.Markdown object>"
            ],
            "text/markdown": "**Precision**: 0.85<br>**Recall**: 0.44<br>**F1**: 0.58<br>**Confusion matrix**:"
          },
          "metadata": {}
        },
        {
          "output_type": "stream",
          "name": "stdout",
          "text": [
            "91832    18\n",
            "  128   100\n",
            "Elapsed time: 0.8605469981829326 in seconds\n",
            "\n",
            "\n"
          ]
        },
        {
          "output_type": "display_data",
          "data": {
            "text/plain": [
              "<IPython.core.display.Markdown object>"
            ],
            "text/markdown": "**The selected features are**: Index(['step', 'type', 'amount', 'nameOrig', 'oldbalanceOrg', 'newbalanceOrig',\n       'nameDest', 'oldbalanceDest', 'newbalanceDest'],\n      dtype='object')"
          },
          "metadata": {}
        },
        {
          "output_type": "stream",
          "name": "stdout",
          "text": [
            "\n",
            "\n"
          ]
        },
        {
          "output_type": "display_data",
          "data": {
            "text/plain": [
              "<Figure size 720x360 with 2 Axes>"
            ],
            "image/png": "[encoded data removed]"
          },
          "metadata": {
            "needs_background": "light"
          }
        }
      ],
      "source": [
        "def main():\n",
        "\n",
        "  classifiers_dict = {\n",
        "    'clf1': {\n",
        "        'name': 'K-Nearest Neighbor',\n",
        "        'method': KNeighborsClassifier,\n",
        "        'params_grid': { 'clf__n_neighbors': [4],\n",
        "                         'clf__weights':   ['uniform']\n",
        "        }\n",
        "    },\n",
        "    'clf2': {\n",
        "        'name': 'Logistic Regression',\n",
        "        'method': LogisticRegression,\n",
        "        'params_grid': { 'clf__C': np.logspace(-6, -5, 10)\n",
        "        }\n",
        "    },\n",
        "    'clf3': {\n",
        "        'name': 'SVM',\n",
        "        'method' : SVC,\n",
        "        'params_grid': { 'clf__C': [1, 10, 20]\n",
        "                            #'clf__kernel': ['linear', 'poly'],\n",
        "                            #'clf__degree': [2],\n",
        "                            #'clf__gamma': ['scale']\n",
        "        }\n",
        "    },\n",
        "    'clf4': {\n",
        "        'name': 'Naive_Bayes',\n",
        "        'method': GaussianNB,\n",
        "        'params_grid': { 'clf__var_smoothing': [1e-9, 1e-8, 1e-7],\n",
        "                         'clf__priors': [None, [0.4, 0.6], [0.3, 0.7]]\n",
        "        }\n",
        "    },\n",
        "    'clf5': {\n",
        "        'name': 'Decision_Tree',\n",
        "        'method': DecisionTreeClassifier,\n",
        "        'params_grid': { 'clf__criterion': [\"gini\", 'entropy', 'log_loss'],\n",
        "                         'clf__max_leaf_nodes': [4, 5, 6]\n",
        "        }\n",
        "    },\n",
        "    'clf6': {\n",
        "        'name': 'Random_forest',\n",
        "        'method': RandomForestClassifier,\n",
        "        'params_grid': { 'clf__n_estimators': [50, 100, 150],\n",
        "                         'clf__criterion': ['gini', \"entropy\"]\n",
        "        }\n",
        "    },\n",
        "    'clf7': {\n",
        "        'name': 'XGBoost',\n",
        "        'method': XGBClassifier,\n",
        "        'params_grid': { 'clf__n_estimators': range(50, 150, 50)\n",
        "          }\n",
        "      }\n",
        "  }\n",
        "\n",
        "  grid_search_results, stratifks = train(classifiers_dict, 'clf1')\n",
        "  test(classifiers_dict, 'clf1', grid_search_results, stratifks)\n",
        "  print(\"\\n\")\n",
        "  plotVis(grid_search_results)\n",
        "\n",
        "if __name__ == '__main__':\n",
        "  main()"
      ]
    }
  ],
  "metadata": {
    "colab": {
      "provenance": [],
      "mount_file_id": "1ZaswPBAyYBwHLjdwaOcVOiNnrzLCpfIh",
      "authorship_tag": "ABX9TyNffV5Q/w0Cne6Q2K7tzeMR",
      "include_colab_link": true
    },
    "gpuClass": "standard",
    "kernelspec": {
      "display_name": "Python 3",
      "name": "python3"
    },
    "language_info": {
      "name": "python"
    }
  },
  "nbformat": 4,
  "nbformat_minor": 0
}