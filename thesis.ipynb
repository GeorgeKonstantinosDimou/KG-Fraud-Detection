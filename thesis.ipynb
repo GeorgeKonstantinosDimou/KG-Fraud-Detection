{
  "cells": [
    {
      "cell_type": "markdown",
      "metadata": {
        "id": "view-in-github",
        "colab_type": "text"
      },
      "source": [
        "<a href=\"https://colab.research.google.com/github/GeorgeKonstantinosDimou/Skroutz/blob/main/thesis.ipynb\" target=\"_parent\"><img src=\"https://colab.research.google.com/assets/colab-badge.svg\" alt=\"Open In Colab\"/></a>"
      ]
    },
    {
      "cell_type": "markdown",
      "metadata": {
        "id": "WbCGDvNpSVRz"
      },
      "source": [
        "# Importing the required libraries"
      ]
    },
    {
      "cell_type": "code",
      "execution_count": null,
      "metadata": {
        "id": "KVSolhy5SOqj"
      },
      "outputs": [],
      "source": [
        "import pandas as pd\n",
        "import numpy as np\n",
        "import sklearn\n",
        "from IPython.display import Markdown\n",
        "import seaborn as sns\n",
        "import matplotlib.pyplot as plt\n",
        "from sklearn.neighbors import KNeighborsClassifier\n",
        "from sklearn.linear_model import LogisticRegression\n",
        "from sklearn.svm import SVC\n",
        "from sklearn.naive_bayes import GaussianNB\n",
        "from sklearn.tree import DecisionTreeClassifier\n",
        "from sklearn.ensemble import RandomForestClassifier\n",
        "from xgboost import XGBClassifier\n",
        "from sklearn.preprocessing import LabelEncoder\n",
        "from sklearn.feature_selection import VarianceThreshold, SelectKBest, f_classif, SequentialFeatureSelector\n",
        "from sklearn.preprocessing import MinMaxScaler, StandardScaler\n",
        "from imblearn.over_sampling import SMOTE\n",
        "from imblearn.under_sampling import RandomUnderSampler\n",
        "from imblearn.pipeline import make_pipeline, Pipeline\n",
        "from sklearn.metrics import accuracy_score, confusion_matrix, precision_score, recall_score, f1_score\n",
        "from tqdm import tqdm\n",
        "import time"
      ]
    },
    {
      "cell_type": "markdown",
      "metadata": {
        "id": "iY9jxc6xSccu"
      },
      "source": [
        "# Dataset loading"
      ]
    },
    {
      "cell_type": "code",
      "execution_count": null,
      "metadata": {
        "colab": {
          "base_uri": "https://localhost:8080/"
        },
        "id": "2dKPylRtUH6D",
        "outputId": "a96112fd-0ec0-4f81-a356-5ecaa9755f53"
      },
      "outputs": [
        {
          "output_type": "stream",
          "name": "stdout",
          "text": [
            "<class 'pandas.core.frame.DataFrame'>\n",
            "RangeIndex: 1048575 entries, 0 to 1048574\n",
            "Data columns (total 11 columns):\n",
            " #   Column          Non-Null Count    Dtype  \n",
            "---  ------          --------------    -----  \n",
            " 0   step            1048575 non-null  int64  \n",
            " 1   type            1048575 non-null  object \n",
            " 2   amount          1048575 non-null  float64\n",
            " 3   nameOrig        1048575 non-null  object \n",
            " 4   oldbalanceOrg   1048575 non-null  float64\n",
            " 5   newbalanceOrig  1048575 non-null  float64\n",
            " 6   nameDest        1048575 non-null  object \n",
            " 7   oldbalanceDest  1048575 non-null  float64\n",
            " 8   newbalanceDest  1048575 non-null  float64\n",
            " 9   isFraud         1048575 non-null  int64  \n",
            " 10  isFlaggedFraud  1048575 non-null  int64  \n",
            "dtypes: float64(5), int64(3), object(3)\n",
            "memory usage: 88.0+ MB\n"
          ]
        }
      ],
      "source": [
        "ds = pd.read_csv(\"/content/drive/MyDrive/Πτυχιακή /Πτυχιακή/datasets/original.csv\")\n",
        "ds.info()"
      ]
    },
    {
      "cell_type": "markdown",
      "metadata": {
        "id": "52f_zmh_3opr"
      },
      "source": [
        "##General info/Statistics"
      ]
    },
    {
      "cell_type": "code",
      "execution_count": null,
      "metadata": {
        "colab": {
          "base_uri": "https://localhost:8080/"
        },
        "id": "D3Ny9Nhu3oD5",
        "outputId": "ef3ffa17-bf3f-4b67-dbc8-e9f9ab2d835e"
      },
      "outputs": [
        {
          "output_type": "stream",
          "name": "stdout",
          "text": [
            "0    1047433\n",
            "1       1142\n",
            "Name: isFraud, dtype: int64 \n",
            "\n",
            "step                   95\n",
            "type                    5\n",
            "amount            1009606\n",
            "nameOrig          1048317\n",
            "oldbalanceOrg      391033\n",
            "newbalanceOrig     440792\n",
            "nameDest           449635\n",
            "oldbalanceDest     590110\n",
            "newbalanceDest     437054\n",
            "isFraud                 2\n",
            "isFlaggedFraud          1\n",
            "dtype: int64 \n",
            "\n",
            "0    1048575\n",
            "Name: isFlaggedFraud, dtype: int64\n",
            "isFlaggedFraud column contains only 0's and hence will be dropped in the preprocessing\n"
          ]
        }
      ],
      "source": [
        "print(ds['isFraud'].value_counts(),'\\n')\n",
        "print(ds.nunique(),'\\n')\n",
        "print(ds['isFlaggedFraud'].value_counts())\n",
        "print(\"isFlaggedFraud column contains only 0's and hence will be dropped in the preprocessing\")"
      ]
    },
    {
      "cell_type": "code",
      "execution_count": null,
      "metadata": {
        "colab": {
          "base_uri": "https://localhost:8080/",
          "height": 414
        },
        "id": "Bw-jjq8e4uFP",
        "outputId": "04683173-eabe-4d65-ce40-e29e8fd77de3"
      },
      "outputs": [
        {
          "output_type": "execute_result",
          "data": {
            "text/plain": [
              "<Axes: >"
            ]
          },
          "metadata": {},
          "execution_count": 4
        },
        {
          "output_type": "display_data",
          "data": {
            "text/plain": [
              "<Figure size 720x360 with 2 Axes>"
            ],
            "image/png": "[encoded data removed]"
          },
          "metadata": {
            "needs_background": "light"
          }
        }
      ],
      "source": [
        "plt.figure(figsize=(10, 5))\n",
        "sns.heatmap(ds.corr(), annot=True, cmap='hot')"
      ]
    },
    {
      "cell_type": "code",
      "execution_count": null,
      "metadata": {
        "colab": {
          "base_uri": "https://localhost:8080/",
          "height": 690
        },
        "id": "ZbNeUz2m8Tqh",
        "outputId": "e1e71f5e-6deb-40d9-bacf-eff39bb0582e"
      },
      "outputs": [
        {
          "output_type": "display_data",
          "data": {
            "text/plain": [
              "<Figure size 720x576 with 1 Axes>"
            ],
            "image/png": "[encoded data removed]"
          },
          "metadata": {}
        },
        {
          "output_type": "stream",
          "name": "stdout",
          "text": [
            "\n",
            "\n",
            "type      isFraud\n",
            "CASH_IN   0          227130\n",
            "CASH_OUT  0          373063\n",
            "          1             578\n",
            "DEBIT     0            7178\n",
            "PAYMENT   0          353873\n",
            "TRANSFER  0           86189\n",
            "          1             564\n",
            "Name: isFraud, dtype: int64\n",
            "Only two type of categories contain fraudulent transactions all the other are not usefull\n"
          ]
        }
      ],
      "source": [
        "from numpy.core.multiarray import result_type\n",
        "plt.figure(figsize=(10, 8))\n",
        "plt.pie(ds.type.value_counts().values,labels=ds.type.value_counts().index,  autopct='%.0f%%')\n",
        "plt.title(\"Transaction Type\")\n",
        "plt.show()\n",
        "\n",
        "print(\"\\n\")\n",
        "result = ds.groupby('type')['isFraud'].value_counts()\n",
        "print(result)\n",
        "print(\"Only two type of categories contain fraudulent transactions all the other are not usefull\")"
      ]
    },
    {
      "cell_type": "markdown",
      "metadata": {
        "id": "7k2c02rSZX1Z"
      },
      "source": [
        "#Dataset processing"
      ]
    },
    {
      "cell_type": "markdown",
      "source": [],
      "metadata": {
        "id": "nuo-IwKmnacK"
      }
    },
    {
      "cell_type": "code",
      "execution_count": null,
      "metadata": {
        "id": "kW_Sdgb_VNEX"
      },
      "outputs": [],
      "source": [
        "ds.drop(columns=\"isFlaggedFraud\", inplace = True)\n",
        "ds = ds[~(ds['type'].isin(['CASH_IN', 'DEBIT', 'PAYMENT']))]\n",
        "\n",
        "encoder = {}\n",
        "for i in ds.select_dtypes('object').columns:\n",
        "    encoder[i] = LabelEncoder()\n",
        "    ds[i] = encoder[i].fit_transform(ds[i])\n",
        "ds\n",
        "\n",
        "X = ds.drop('isFraud', axis=1)\n",
        "y = ds['isFraud']"
      ]
    },
    {
      "cell_type": "markdown",
      "metadata": {
        "id": "AFeI_u-8qR1u"
      },
      "source": [
        "#Stratified sampling & Training"
      ]
    },
    {
      "cell_type": "code",
      "source": [
        "def train(clf_dictionary: dict, clfier: str):\n",
        "\n",
        "  time_needed = time.time()\n",
        "\n",
        "  clf_pipeline = Pipeline(\n",
        "      [('feature_selection', SelectKBest(f_classif, k=5)),\n",
        "      ('scaler', StandardScaler()),\n",
        "      ('resampler1', SMOTE(sampling_strategy='minority', random_state=42)),\n",
        "      ('resampler2', RandomUnderSampler(sampling_strategy='all', random_state=42)),\n",
        "      ('clf', clf_dictionary[clfier]['method']())],\n",
        "      verbose=True)\n",
        "\n",
        "  params_grid = clf_dictionary[clfier]['params_grid']\n",
        "\n",
        "  skf = sklearn.model_selection.StratifiedKFold(n_splits=5, shuffle=True, random_state=42)\n",
        "  grid_search = sklearn.model_selection.GridSearchCV(clf_pipeline, params_grid, scoring=['precision', 'recall'], refit='precision', cv=skf)\n",
        "\n",
        "  grid_search.fit(X, y)\n",
        "\n",
        "  display(Markdown(\n",
        "      \"### Καλύτερα αποτελέσματα μέσω cross validation για {}:\\n\".format(clf_dictionary[clfier]['name']) +\n",
        "      \"{}\".format(grid_search.best_params_) + \"<br>\" +\n",
        "      #\"**Best number of neighbors**: {}\".format(grid_search.best_params_['clf__n_neighbors']) + \"<br>\" +\n",
        "      #\"**Best weight**: {}\".format(grid_search.best_params_['clf__weights']) + \"<br>\" +\n",
        "      \"**Best score:** {:.3f}\".format(grid_search.best_score_)\n",
        "  ))\n",
        "  return grid_search, skf"
      ],
      "metadata": {
        "id": "NqZLqwq5kCxE"
      },
      "execution_count": null,
      "outputs": []
    },
    {
      "cell_type": "markdown",
      "source": [
        "# Testing"
      ],
      "metadata": {
        "id": "GLxxx1sKkGjD"
      }
    },
    {
      "cell_type": "code",
      "source": [
        "def test(clf_dictionary: dict, clfier: str, grid_search, skf):\n",
        "\n",
        "  best_params = {k.split('__')[1]: v for k, v in grid_search.best_params_.items()}\n",
        "\n",
        "  best_clf = clf_dictionary[clfier]['method'](**best_params)\n",
        "\n",
        "  display(Markdown(\"### Αποτελέσματα {}:\\n\".format(clf_dictionary[clfier]['name'])))\n",
        "  for i, (train_index, test_index) in enumerate(skf.split(X, y)):\n",
        "      display(Markdown(\"####Fold {}####\".format(i+1)))\n",
        "\n",
        "      X_train, y_train = X.iloc[train_index], y.iloc[train_index]\n",
        "      X_test, y_test = X.iloc[test_index], y.iloc[test_index]\n",
        "\n",
        "      #X_temp_resampled, y_temp_resampled = knn_pipeline['resampler1'].fit_resample(X_train, y_train) #use resampler1\n",
        "      #X_resampled, y_resampled = knn_pipeline['resampler2'].fit_resample(X_temp_resampled, y_temp_resampled) #use resampler2\n",
        "      #best_clf.fit(X_resampled, y_resampled) #fit the classifier using the resampled data\n",
        "      #y_pred = best_clf.predict(X_resampled)\n",
        "\n",
        "      #non-resampled fit/predict\n",
        "      best_clf.fit(X_train, y_train)\n",
        "      y_pred = best_clf.predict(X_test)\n",
        "\n",
        "      conf_matr = confusion_matrix(y_test, y_pred)\n",
        "\n",
        "      display(Markdown(\n",
        "      \"**Precision**: {:.2f}\".format(precision_score(y_test, y_pred)) + \"<br>\" +\n",
        "      \"**Recall**: {:.2f}\".format(recall_score(y_test, y_pred)) + \"<br>\" +\n",
        "      \"**F1**: {:.2f}\".format(f1_score(y_test, y_pred)) + \"<br>\" +\n",
        "      \"**Confusion matrix**:\"\n",
        "      ))\n",
        "\n",
        "      print(\"\\n\".join([' '.join(['{:5}'.format(item) for item in row])\n",
        "            for row in conf_matr]))\n",
        "      #print(f\"Confusion Matrix:\\n {conf_matr}\")\n",
        "      #print(f\"Elapsed time: {(time.time()-time_needed)/60} in seconds\")"
      ],
      "metadata": {
        "id": "HZ5udstlkGLM"
      },
      "execution_count": null,
      "outputs": []
    },
    {
      "cell_type": "markdown",
      "source": [
        "#Visualization"
      ],
      "metadata": {
        "id": "UP49UfvlkT19"
      }
    },
    {
      "cell_type": "code",
      "source": [
        "def plotVis(grid_search):\n",
        "\n",
        "  selected_mask = grid_search.best_estimator_.named_steps['feature_selection'].get_support()\n",
        "  #feature_names = list(range(X.shape[1])) # Replace this with the actual feature names\n",
        "  #selected_features = [feature_names[i] for i in range(len(selected_mask)) if selected_mask[i]]\n",
        "  selected_features = X.columns[selected_mask]\n",
        "\n",
        "  #X.columns.to_numpy().tolist()\n",
        "  print(\"Selected features: \", selected_features)\n",
        "  #selected_features = knn_pipeline.named_steps['feature_selection'].get_feature_names_out()\n",
        "  #print(selected_features)\n",
        "  print(\"\\n\")\n",
        "  plt.figure(figsize=(10, 5))\n",
        "  sns.heatmap(ds.loc[:, selected_features].corr(), annot=True, cmap='hot')"
      ],
      "metadata": {
        "id": "roCiwUFdkW10"
      },
      "execution_count": null,
      "outputs": []
    },
    {
      "cell_type": "markdown",
      "source": [
        "# Execution in main"
      ],
      "metadata": {
        "id": "5W0VHUvrkZOM"
      }
    },
    {
      "cell_type": "code",
      "source": [
        "def main():\n",
        "\n",
        "  classifiers_dict = {\n",
        "    'clf1': {\n",
        "        'name': 'K-Nearest Neighbor',\n",
        "        'method': KNeighborsClassifier,\n",
        "        'params_grid': { 'clf__n_neighbors': [4],\n",
        "                         'clf__weights':   ['uniform']\n",
        "        }\n",
        "    },\n",
        "    'clf2': {\n",
        "        'name': 'Logistic Regression',\n",
        "        'method': LogisticRegression,\n",
        "        'params_grid': { 'clf__C': np.logspace(-6, -5, 10)\n",
        "        }\n",
        "    },\n",
        "    'clf3': {\n",
        "        'name': 'SVM',\n",
        "        'method' : SVC,\n",
        "        'params_grid': { 'clf__C': [1, 10, 20]\n",
        "                            #'clf__kernel': ['linear', 'poly'],\n",
        "                            #'clf__degree': [2],\n",
        "                            #'clf__gamma': ['scale']\n",
        "        }\n",
        "    },\n",
        "    'clf4': {\n",
        "        'name': 'Naive_Bayes',\n",
        "        'method': GaussianNB,\n",
        "        'params_grid': { 'clf__var_smoothing': [1e-9, 1e-8, 1e-7],\n",
        "                         'clf__priors': [None, [0.4, 0.6], [0.3, 0.7]]\n",
        "        }\n",
        "    },\n",
        "    'clf5': {\n",
        "        'name': 'Decision_Tree',\n",
        "        'method': DecisionTreeClassifier,\n",
        "        'params_grid': { 'clf__criterion': [\"gini\", 'entropy', 'log_loss'],\n",
        "                         'clf__max_leaf_nodes': [4, 5, 6]\n",
        "        }\n",
        "    },\n",
        "    'clf6': {\n",
        "        'name': 'Random_forest',\n",
        "        'method': RandomForestClassifier,\n",
        "        'params_grid': { 'clf__n_estimators': [50, 100, 150],\n",
        "                         'clf__criterion': ['gini', \"entropy\"]\n",
        "        }\n",
        "    },\n",
        "    'clf7': {\n",
        "        'name': 'XGBoost',\n",
        "        'method': XGBClassifier,\n",
        "        'params_grid': { 'clf__n_estimators': range(50, 150, 50)\n",
        "          }\n",
        "      }\n",
        "  }\n",
        "\n",
        "  grid_search_results, stratifks = train(classifiers_dict, 'clf4')\n",
        "  test(classifiers_dict, 'clf4', grid_search_results, stratifks)\n",
        "  print(\"\\n\")\n",
        "  plotVis(grid_search_results)\n",
        "\n",
        "if __name__ == '__main__':\n",
        "  main()"
      ],
      "metadata": {
        "colab": {
          "base_uri": "https://localhost:8080/",
          "height": 1000
        },
        "id": "TnU1MWLakdlI",
        "outputId": "738d050f-862f-4a2b-d9c0-9f08510482d4"
      },
      "execution_count": null,
      "outputs": [
        {
          "output_type": "stream",
          "name": "stdout",
          "text": [
            "[Pipeline] . (step 1 of 5) Processing feature_selection, total=   0.5s\n",
            "[Pipeline] ............ (step 2 of 5) Processing scaler, total=   0.1s\n",
            "[Pipeline] ........ (step 3 of 5) Processing resampler1, total=   0.2s\n",
            "[Pipeline] ........ (step 4 of 5) Processing resampler2, total=   0.3s\n",
            "[Pipeline] ............... (step 5 of 5) Processing clf, total=   0.2s\n",
            "[Pipeline] . (step 1 of 5) Processing feature_selection, total=   0.1s\n",
            "[Pipeline] ............ (step 2 of 5) Processing scaler, total=   0.0s\n",
            "[Pipeline] ........ (step 3 of 5) Processing resampler1, total=   0.1s\n",
            "[Pipeline] ........ (step 4 of 5) Processing resampler2, total=   0.3s\n",
            "[Pipeline] ............... (step 5 of 5) Processing clf, total=   0.2s\n",
            "[Pipeline] . (step 1 of 5) Processing feature_selection, total=   0.1s\n",
            "[Pipeline] ............ (step 2 of 5) Processing scaler, total=   0.0s\n",
            "[Pipeline] ........ (step 3 of 5) Processing resampler1, total=   0.1s\n",
            "[Pipeline] ........ (step 4 of 5) Processing resampler2, total=   0.3s\n",
            "[Pipeline] ............... (step 5 of 5) Processing clf, total=   0.2s\n",
            "[Pipeline] . (step 1 of 5) Processing feature_selection, total=   0.1s\n",
            "[Pipeline] ............ (step 2 of 5) Processing scaler, total=   0.0s\n",
            "[Pipeline] ........ (step 3 of 5) Processing resampler1, total=   0.1s\n",
            "[Pipeline] ........ (step 4 of 5) Processing resampler2, total=   0.3s\n",
            "[Pipeline] ............... (step 5 of 5) Processing clf, total=   0.2s\n",
            "[Pipeline] . (step 1 of 5) Processing feature_selection, total=   0.1s\n",
            "[Pipeline] ............ (step 2 of 5) Processing scaler, total=   0.0s\n",
            "[Pipeline] ........ (step 3 of 5) Processing resampler1, total=   0.1s\n",
            "[Pipeline] ........ (step 4 of 5) Processing resampler2, total=   0.3s\n",
            "[Pipeline] ............... (step 5 of 5) Processing clf, total=   0.2s\n",
            "[Pipeline] . (step 1 of 5) Processing feature_selection, total=   0.1s\n",
            "[Pipeline] ............ (step 2 of 5) Processing scaler, total=   0.0s\n",
            "[Pipeline] ........ (step 3 of 5) Processing resampler1, total=   0.1s\n",
            "[Pipeline] ........ (step 4 of 5) Processing resampler2, total=   0.2s\n",
            "[Pipeline] ............... (step 5 of 5) Processing clf, total=   0.2s\n",
            "[Pipeline] . (step 1 of 5) Processing feature_selection, total=   0.1s\n",
            "[Pipeline] ............ (step 2 of 5) Processing scaler, total=   0.0s\n",
            "[Pipeline] ........ (step 3 of 5) Processing resampler1, total=   0.2s\n",
            "[Pipeline] ........ (step 4 of 5) Processing resampler2, total=   0.5s\n",
            "[Pipeline] ............... (step 5 of 5) Processing clf, total=   0.3s\n",
            "[Pipeline] . (step 1 of 5) Processing feature_selection, total=   0.2s\n",
            "[Pipeline] ............ (step 2 of 5) Processing scaler, total=   0.0s\n",
            "[Pipeline] ........ (step 3 of 5) Processing resampler1, total=   0.2s\n",
            "[Pipeline] ........ (step 4 of 5) Processing resampler2, total=   0.5s\n",
            "[Pipeline] ............... (step 5 of 5) Processing clf, total=   0.3s\n",
            "[Pipeline] . (step 1 of 5) Processing feature_selection, total=   0.2s\n",
            "[Pipeline] ............ (step 2 of 5) Processing scaler, total=   0.0s\n",
            "[Pipeline] ........ (step 3 of 5) Processing resampler1, total=   0.2s\n",
            "[Pipeline] ........ (step 4 of 5) Processing resampler2, total=   0.5s\n",
            "[Pipeline] ............... (step 5 of 5) Processing clf, total=   0.3s\n",
            "[Pipeline] . (step 1 of 5) Processing feature_selection, total=   0.2s\n",
            "[Pipeline] ............ (step 2 of 5) Processing scaler, total=   0.0s\n",
            "[Pipeline] ........ (step 3 of 5) Processing resampler1, total=   0.2s\n",
            "[Pipeline] ........ (step 4 of 5) Processing resampler2, total=   0.2s\n",
            "[Pipeline] ............... (step 5 of 5) Processing clf, total=   0.2s\n",
            "[Pipeline] . (step 1 of 5) Processing feature_selection, total=   0.1s\n",
            "[Pipeline] ............ (step 2 of 5) Processing scaler, total=   0.0s\n",
            "[Pipeline] ........ (step 3 of 5) Processing resampler1, total=   0.1s\n",
            "[Pipeline] ........ (step 4 of 5) Processing resampler2, total=   0.3s\n",
            "[Pipeline] ............... (step 5 of 5) Processing clf, total=   0.2s\n",
            "[Pipeline] . (step 1 of 5) Processing feature_selection, total=   0.1s\n",
            "[Pipeline] ............ (step 2 of 5) Processing scaler, total=   0.0s\n",
            "[Pipeline] ........ (step 3 of 5) Processing resampler1, total=   0.1s\n",
            "[Pipeline] ........ (step 4 of 5) Processing resampler2, total=   0.3s\n",
            "[Pipeline] ............... (step 5 of 5) Processing clf, total=   0.2s\n",
            "[Pipeline] . (step 1 of 5) Processing feature_selection, total=   0.1s\n",
            "[Pipeline] ............ (step 2 of 5) Processing scaler, total=   0.0s\n",
            "[Pipeline] ........ (step 3 of 5) Processing resampler1, total=   0.1s\n",
            "[Pipeline] ........ (step 4 of 5) Processing resampler2, total=   0.3s\n",
            "[Pipeline] ............... (step 5 of 5) Processing clf, total=   0.2s\n",
            "[Pipeline] . (step 1 of 5) Processing feature_selection, total=   0.1s\n",
            "[Pipeline] ............ (step 2 of 5) Processing scaler, total=   0.0s\n",
            "[Pipeline] ........ (step 3 of 5) Processing resampler1, total=   0.1s\n",
            "[Pipeline] ........ (step 4 of 5) Processing resampler2, total=   0.3s\n",
            "[Pipeline] ............... (step 5 of 5) Processing clf, total=   0.2s\n",
            "[Pipeline] . (step 1 of 5) Processing feature_selection, total=   0.1s\n",
            "[Pipeline] ............ (step 2 of 5) Processing scaler, total=   0.0s\n",
            "[Pipeline] ........ (step 3 of 5) Processing resampler1, total=   0.1s\n",
            "[Pipeline] ........ (step 4 of 5) Processing resampler2, total=   0.3s\n",
            "[Pipeline] ............... (step 5 of 5) Processing clf, total=   0.2s\n",
            "[Pipeline] . (step 1 of 5) Processing feature_selection, total=   0.1s\n",
            "[Pipeline] ............ (step 2 of 5) Processing scaler, total=   0.0s\n",
            "[Pipeline] ........ (step 3 of 5) Processing resampler1, total=   0.1s\n",
            "[Pipeline] ........ (step 4 of 5) Processing resampler2, total=   0.3s\n",
            "[Pipeline] ............... (step 5 of 5) Processing clf, total=   0.2s\n",
            "[Pipeline] . (step 1 of 5) Processing feature_selection, total=   0.1s\n",
            "[Pipeline] ............ (step 2 of 5) Processing scaler, total=   0.0s\n",
            "[Pipeline] ........ (step 3 of 5) Processing resampler1, total=   0.1s\n",
            "[Pipeline] ........ (step 4 of 5) Processing resampler2, total=   0.3s\n",
            "[Pipeline] ............... (step 5 of 5) Processing clf, total=   0.2s\n",
            "[Pipeline] . (step 1 of 5) Processing feature_selection, total=   0.1s\n",
            "[Pipeline] ............ (step 2 of 5) Processing scaler, total=   0.0s\n",
            "[Pipeline] ........ (step 3 of 5) Processing resampler1, total=   0.1s\n",
            "[Pipeline] ........ (step 4 of 5) Processing resampler2, total=   0.3s\n",
            "[Pipeline] ............... (step 5 of 5) Processing clf, total=   0.2s\n",
            "[Pipeline] . (step 1 of 5) Processing feature_selection, total=   0.1s\n",
            "[Pipeline] ............ (step 2 of 5) Processing scaler, total=   0.0s\n",
            "[Pipeline] ........ (step 3 of 5) Processing resampler1, total=   0.1s\n",
            "[Pipeline] ........ (step 4 of 5) Processing resampler2, total=   0.3s\n",
            "[Pipeline] ............... (step 5 of 5) Processing clf, total=   0.2s\n",
            "[Pipeline] . (step 1 of 5) Processing feature_selection, total=   0.1s\n",
            "[Pipeline] ............ (step 2 of 5) Processing scaler, total=   0.0s\n",
            "[Pipeline] ........ (step 3 of 5) Processing resampler1, total=   0.1s\n",
            "[Pipeline] ........ (step 4 of 5) Processing resampler2, total=   0.3s\n",
            "[Pipeline] ............... (step 5 of 5) Processing clf, total=   0.2s\n",
            "[Pipeline] . (step 1 of 5) Processing feature_selection, total=   0.1s\n",
            "[Pipeline] ............ (step 2 of 5) Processing scaler, total=   0.0s\n",
            "[Pipeline] ........ (step 3 of 5) Processing resampler1, total=   0.1s\n",
            "[Pipeline] ........ (step 4 of 5) Processing resampler2, total=   0.3s\n",
            "[Pipeline] ............... (step 5 of 5) Processing clf, total=   0.2s\n",
            "[Pipeline] . (step 1 of 5) Processing feature_selection, total=   0.2s\n",
            "[Pipeline] ............ (step 2 of 5) Processing scaler, total=   0.0s\n",
            "[Pipeline] ........ (step 3 of 5) Processing resampler1, total=   0.2s\n",
            "[Pipeline] ........ (step 4 of 5) Processing resampler2, total=   0.5s\n",
            "[Pipeline] ............... (step 5 of 5) Processing clf, total=   0.3s\n",
            "[Pipeline] . (step 1 of 5) Processing feature_selection, total=   0.2s\n",
            "[Pipeline] ............ (step 2 of 5) Processing scaler, total=   0.0s\n",
            "[Pipeline] ........ (step 3 of 5) Processing resampler1, total=   0.2s\n",
            "[Pipeline] ........ (step 4 of 5) Processing resampler2, total=   0.5s\n",
            "[Pipeline] ............... (step 5 of 5) Processing clf, total=   0.3s\n",
            "[Pipeline] . (step 1 of 5) Processing feature_selection, total=   0.2s\n",
            "[Pipeline] ............ (step 2 of 5) Processing scaler, total=   0.0s\n",
            "[Pipeline] ........ (step 3 of 5) Processing resampler1, total=   0.2s\n",
            "[Pipeline] ........ (step 4 of 5) Processing resampler2, total=   0.5s\n",
            "[Pipeline] ............... (step 5 of 5) Processing clf, total=   0.3s\n",
            "[Pipeline] . (step 1 of 5) Processing feature_selection, total=   0.1s\n",
            "[Pipeline] ............ (step 2 of 5) Processing scaler, total=   0.0s\n",
            "[Pipeline] ........ (step 3 of 5) Processing resampler1, total=   0.1s\n",
            "[Pipeline] ........ (step 4 of 5) Processing resampler2, total=   0.3s\n",
            "[Pipeline] ............... (step 5 of 5) Processing clf, total=   0.2s\n",
            "[Pipeline] . (step 1 of 5) Processing feature_selection, total=   0.1s\n",
            "[Pipeline] ............ (step 2 of 5) Processing scaler, total=   0.0s\n",
            "[Pipeline] ........ (step 3 of 5) Processing resampler1, total=   0.1s\n",
            "[Pipeline] ........ (step 4 of 5) Processing resampler2, total=   0.3s\n",
            "[Pipeline] ............... (step 5 of 5) Processing clf, total=   0.2s\n",
            "[Pipeline] . (step 1 of 5) Processing feature_selection, total=   0.1s\n",
            "[Pipeline] ............ (step 2 of 5) Processing scaler, total=   0.0s\n",
            "[Pipeline] ........ (step 3 of 5) Processing resampler1, total=   0.1s\n",
            "[Pipeline] ........ (step 4 of 5) Processing resampler2, total=   0.3s\n",
            "[Pipeline] ............... (step 5 of 5) Processing clf, total=   0.2s\n",
            "[Pipeline] . (step 1 of 5) Processing feature_selection, total=   0.1s\n",
            "[Pipeline] ............ (step 2 of 5) Processing scaler, total=   0.0s\n",
            "[Pipeline] ........ (step 3 of 5) Processing resampler1, total=   0.1s\n",
            "[Pipeline] ........ (step 4 of 5) Processing resampler2, total=   0.3s\n",
            "[Pipeline] ............... (step 5 of 5) Processing clf, total=   0.2s\n",
            "[Pipeline] . (step 1 of 5) Processing feature_selection, total=   0.1s\n",
            "[Pipeline] ............ (step 2 of 5) Processing scaler, total=   0.0s\n",
            "[Pipeline] ........ (step 3 of 5) Processing resampler1, total=   0.1s\n",
            "[Pipeline] ........ (step 4 of 5) Processing resampler2, total=   0.3s\n",
            "[Pipeline] ............... (step 5 of 5) Processing clf, total=   0.2s\n",
            "[Pipeline] . (step 1 of 5) Processing feature_selection, total=   0.1s\n",
            "[Pipeline] ............ (step 2 of 5) Processing scaler, total=   0.0s\n",
            "[Pipeline] ........ (step 3 of 5) Processing resampler1, total=   0.1s\n",
            "[Pipeline] ........ (step 4 of 5) Processing resampler2, total=   0.3s\n",
            "[Pipeline] ............... (step 5 of 5) Processing clf, total=   0.2s\n",
            "[Pipeline] . (step 1 of 5) Processing feature_selection, total=   0.1s\n",
            "[Pipeline] ............ (step 2 of 5) Processing scaler, total=   0.0s\n",
            "[Pipeline] ........ (step 3 of 5) Processing resampler1, total=   0.1s\n",
            "[Pipeline] ........ (step 4 of 5) Processing resampler2, total=   0.3s\n",
            "[Pipeline] ............... (step 5 of 5) Processing clf, total=   0.2s\n",
            "[Pipeline] . (step 1 of 5) Processing feature_selection, total=   0.1s\n",
            "[Pipeline] ............ (step 2 of 5) Processing scaler, total=   0.0s\n",
            "[Pipeline] ........ (step 3 of 5) Processing resampler1, total=   0.1s\n",
            "[Pipeline] ........ (step 4 of 5) Processing resampler2, total=   0.2s\n",
            "[Pipeline] ............... (step 5 of 5) Processing clf, total=   0.2s\n",
            "[Pipeline] . (step 1 of 5) Processing feature_selection, total=   0.1s\n",
            "[Pipeline] ............ (step 2 of 5) Processing scaler, total=   0.0s\n",
            "[Pipeline] ........ (step 3 of 5) Processing resampler1, total=   0.1s\n",
            "[Pipeline] ........ (step 4 of 5) Processing resampler2, total=   0.3s\n",
            "[Pipeline] ............... (step 5 of 5) Processing clf, total=   0.2s\n",
            "[Pipeline] . (step 1 of 5) Processing feature_selection, total=   0.1s\n",
            "[Pipeline] ............ (step 2 of 5) Processing scaler, total=   0.0s\n",
            "[Pipeline] ........ (step 3 of 5) Processing resampler1, total=   0.1s\n",
            "[Pipeline] ........ (step 4 of 5) Processing resampler2, total=   0.3s\n",
            "[Pipeline] ............... (step 5 of 5) Processing clf, total=   0.2s\n",
            "[Pipeline] . (step 1 of 5) Processing feature_selection, total=   0.1s\n",
            "[Pipeline] ............ (step 2 of 5) Processing scaler, total=   0.0s\n",
            "[Pipeline] ........ (step 3 of 5) Processing resampler1, total=   0.1s\n",
            "[Pipeline] ........ (step 4 of 5) Processing resampler2, total=   0.3s\n",
            "[Pipeline] ............... (step 5 of 5) Processing clf, total=   0.2s\n",
            "[Pipeline] . (step 1 of 5) Processing feature_selection, total=   0.1s\n",
            "[Pipeline] ............ (step 2 of 5) Processing scaler, total=   0.0s\n",
            "[Pipeline] ........ (step 3 of 5) Processing resampler1, total=   0.1s\n",
            "[Pipeline] ........ (step 4 of 5) Processing resampler2, total=   0.4s\n",
            "[Pipeline] ............... (step 5 of 5) Processing clf, total=   0.3s\n",
            "[Pipeline] . (step 1 of 5) Processing feature_selection, total=   0.2s\n",
            "[Pipeline] ............ (step 2 of 5) Processing scaler, total=   0.0s\n",
            "[Pipeline] ........ (step 3 of 5) Processing resampler1, total=   0.2s\n",
            "[Pipeline] ........ (step 4 of 5) Processing resampler2, total=   0.5s\n",
            "[Pipeline] ............... (step 5 of 5) Processing clf, total=   0.3s\n",
            "[Pipeline] . (step 1 of 5) Processing feature_selection, total=   0.2s\n",
            "[Pipeline] ............ (step 2 of 5) Processing scaler, total=   0.0s\n",
            "[Pipeline] ........ (step 3 of 5) Processing resampler1, total=   0.2s\n",
            "[Pipeline] ........ (step 4 of 5) Processing resampler2, total=   0.5s\n",
            "[Pipeline] ............... (step 5 of 5) Processing clf, total=   0.3s\n",
            "[Pipeline] . (step 1 of 5) Processing feature_selection, total=   0.2s\n",
            "[Pipeline] ............ (step 2 of 5) Processing scaler, total=   0.0s\n",
            "[Pipeline] ........ (step 3 of 5) Processing resampler1, total=   0.2s\n",
            "[Pipeline] ........ (step 4 of 5) Processing resampler2, total=   0.4s\n",
            "[Pipeline] ............... (step 5 of 5) Processing clf, total=   0.2s\n",
            "[Pipeline] . (step 1 of 5) Processing feature_selection, total=   0.1s\n",
            "[Pipeline] ............ (step 2 of 5) Processing scaler, total=   0.0s\n",
            "[Pipeline] ........ (step 3 of 5) Processing resampler1, total=   0.1s\n",
            "[Pipeline] ........ (step 4 of 5) Processing resampler2, total=   0.3s\n",
            "[Pipeline] ............... (step 5 of 5) Processing clf, total=   0.2s\n",
            "[Pipeline] . (step 1 of 5) Processing feature_selection, total=   0.1s\n",
            "[Pipeline] ............ (step 2 of 5) Processing scaler, total=   0.0s\n",
            "[Pipeline] ........ (step 3 of 5) Processing resampler1, total=   0.1s\n",
            "[Pipeline] ........ (step 4 of 5) Processing resampler2, total=   0.2s\n",
            "[Pipeline] ............... (step 5 of 5) Processing clf, total=   0.2s\n",
            "[Pipeline] . (step 1 of 5) Processing feature_selection, total=   0.1s\n",
            "[Pipeline] ............ (step 2 of 5) Processing scaler, total=   0.0s\n",
            "[Pipeline] ........ (step 3 of 5) Processing resampler1, total=   0.1s\n",
            "[Pipeline] ........ (step 4 of 5) Processing resampler2, total=   0.3s\n",
            "[Pipeline] ............... (step 5 of 5) Processing clf, total=   0.2s\n",
            "[Pipeline] . (step 1 of 5) Processing feature_selection, total=   0.1s\n",
            "[Pipeline] ............ (step 2 of 5) Processing scaler, total=   0.0s\n",
            "[Pipeline] ........ (step 3 of 5) Processing resampler1, total=   0.1s\n",
            "[Pipeline] ........ (step 4 of 5) Processing resampler2, total=   0.3s\n",
            "[Pipeline] ............... (step 5 of 5) Processing clf, total=   0.2s\n",
            "[Pipeline] . (step 1 of 5) Processing feature_selection, total=   0.1s\n",
            "[Pipeline] ............ (step 2 of 5) Processing scaler, total=   0.0s\n",
            "[Pipeline] ........ (step 3 of 5) Processing resampler1, total=   0.1s\n",
            "[Pipeline] ........ (step 4 of 5) Processing resampler2, total=   0.3s\n",
            "[Pipeline] ............... (step 5 of 5) Processing clf, total=   0.2s\n",
            "[Pipeline] . (step 1 of 5) Processing feature_selection, total=   0.1s\n",
            "[Pipeline] ............ (step 2 of 5) Processing scaler, total=   0.0s\n",
            "[Pipeline] ........ (step 3 of 5) Processing resampler1, total=   0.1s\n",
            "[Pipeline] ........ (step 4 of 5) Processing resampler2, total=   0.2s\n",
            "[Pipeline] ............... (step 5 of 5) Processing clf, total=   0.2s\n",
            "[Pipeline] . (step 1 of 5) Processing feature_selection, total=   0.1s\n",
            "[Pipeline] ............ (step 2 of 5) Processing scaler, total=   0.0s\n",
            "[Pipeline] ........ (step 3 of 5) Processing resampler1, total=   0.1s\n",
            "[Pipeline] ........ (step 4 of 5) Processing resampler2, total=   0.3s\n",
            "[Pipeline] ............... (step 5 of 5) Processing clf, total=   0.2s\n"
          ]
        },
        {
          "output_type": "display_data",
          "data": {
            "text/plain": [
              "<IPython.core.display.Markdown object>"
            ],
            "text/markdown": "### Καλύτερα αποτελέσματα μέσω cross validation για Naive_Bayes:\n{'clf__priors': None, 'clf__var_smoothing': 1e-09}<br>**Best score:** 0.027"
          },
          "metadata": {}
        },
        {
          "output_type": "display_data",
          "data": {
            "text/plain": [
              "<IPython.core.display.Markdown object>"
            ],
            "text/markdown": "### Αποτελέσματα Naive_Bayes:\n"
          },
          "metadata": {}
        },
        {
          "output_type": "display_data",
          "data": {
            "text/plain": [
              "<IPython.core.display.Markdown object>"
            ],
            "text/markdown": "####Fold 1####"
          },
          "metadata": {}
        },
        {
          "output_type": "display_data",
          "data": {
            "text/plain": [
              "<IPython.core.display.Markdown object>"
            ],
            "text/markdown": "**Precision**: 0.04<br>**Recall**: 0.30<br>**F1**: 0.07<br>**Confusion matrix**:"
          },
          "metadata": {}
        },
        {
          "output_type": "stream",
          "name": "stdout",
          "text": [
            "90241  1609\n",
            "  160    69\n"
          ]
        },
        {
          "output_type": "display_data",
          "data": {
            "text/plain": [
              "<IPython.core.display.Markdown object>"
            ],
            "text/markdown": "####Fold 2####"
          },
          "metadata": {}
        },
        {
          "output_type": "display_data",
          "data": {
            "text/plain": [
              "<IPython.core.display.Markdown object>"
            ],
            "text/markdown": "**Precision**: 0.05<br>**Recall**: 0.35<br>**F1**: 0.08<br>**Confusion matrix**:"
          },
          "metadata": {}
        },
        {
          "output_type": "stream",
          "name": "stdout",
          "text": [
            "90178  1672\n",
            "  149    80\n"
          ]
        },
        {
          "output_type": "display_data",
          "data": {
            "text/plain": [
              "<IPython.core.display.Markdown object>"
            ],
            "text/markdown": "####Fold 3####"
          },
          "metadata": {}
        },
        {
          "output_type": "display_data",
          "data": {
            "text/plain": [
              "<IPython.core.display.Markdown object>"
            ],
            "text/markdown": "**Precision**: 0.04<br>**Recall**: 0.30<br>**F1**: 0.07<br>**Confusion matrix**:"
          },
          "metadata": {}
        },
        {
          "output_type": "stream",
          "name": "stdout",
          "text": [
            "90274  1577\n",
            "  160    68\n"
          ]
        },
        {
          "output_type": "display_data",
          "data": {
            "text/plain": [
              "<IPython.core.display.Markdown object>"
            ],
            "text/markdown": "####Fold 4####"
          },
          "metadata": {}
        },
        {
          "output_type": "display_data",
          "data": {
            "text/plain": [
              "<IPython.core.display.Markdown object>"
            ],
            "text/markdown": "**Precision**: 0.05<br>**Recall**: 0.36<br>**F1**: 0.08<br>**Confusion matrix**:"
          },
          "metadata": {}
        },
        {
          "output_type": "stream",
          "name": "stdout",
          "text": [
            "90182  1669\n",
            "  145    83\n"
          ]
        },
        {
          "output_type": "display_data",
          "data": {
            "text/plain": [
              "<IPython.core.display.Markdown object>"
            ],
            "text/markdown": "####Fold 5####"
          },
          "metadata": {}
        },
        {
          "output_type": "display_data",
          "data": {
            "text/plain": [
              "<IPython.core.display.Markdown object>"
            ],
            "text/markdown": "**Precision**: 0.04<br>**Recall**: 0.30<br>**F1**: 0.07<br>**Confusion matrix**:"
          },
          "metadata": {}
        },
        {
          "output_type": "stream",
          "name": "stdout",
          "text": [
            "90124  1726\n",
            "  160    68\n",
            "\n",
            "\n",
            "Selected features:  Index(['step', 'type', 'amount', 'oldbalanceOrg', 'oldbalanceDest'], dtype='object')\n",
            "\n",
            "\n"
          ]
        },
        {
          "output_type": "display_data",
          "data": {
            "text/plain": [
              "<Figure size 720x360 with 2 Axes>"
            ],
            "image/png": "[encoded data removed]"
          },
          "metadata": {
            "needs_background": "light"
          }
        }
      ]
    }
  ],
  "metadata": {
    "colab": {
      "provenance": [],
      "mount_file_id": "1ZaswPBAyYBwHLjdwaOcVOiNnrzLCpfIh",
      "authorship_tag": "ABX9TyMsELwxeNLB6IPkyTkyan9V",
      "include_colab_link": true
    },
    "gpuClass": "standard",
    "kernelspec": {
      "display_name": "Python 3",
      "name": "python3"
    },
    "language_info": {
      "name": "python"
    }
  },
  "nbformat": 4,
  "nbformat_minor": 0
}